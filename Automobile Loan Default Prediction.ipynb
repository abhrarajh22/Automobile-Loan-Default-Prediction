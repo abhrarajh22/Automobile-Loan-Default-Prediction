{
 "cells": [
  {
   "cell_type": "markdown",
   "id": "c17018a0",
   "metadata": {},
   "source": [
    "## Importing Required Libraries"
   ]
  },
  {
   "cell_type": "code",
   "execution_count": 1,
   "id": "abb915b9",
   "metadata": {},
   "outputs": [],
   "source": [
    "import numpy as np\n",
    "import pandas as pd\n",
    "import matplotlib.pyplot as plt\n",
    "import seaborn as sns\n",
    "\n",
    "from sklearn.impute import KNNImputer\n",
    "from sklearn.impute import SimpleImputer\n",
    "\n",
    "from sklearn.preprocessing import LabelEncoder, MinMaxScaler\n",
    "\n",
    "from sklearn.model_selection import StratifiedShuffleSplit, GridSearchCV\n",
    "\n",
    "from sklearn.linear_model import LogisticRegression\n",
    "from sklearn.svm import SVC\n",
    "from sklearn.tree import DecisionTreeClassifier\n",
    "from sklearn.ensemble import RandomForestClassifier, ExtraTreesClassifier\n",
    "from sklearn.ensemble import GradientBoostingClassifier, AdaBoostClassifier\n",
    "\n",
    "from sklearn.metrics import precision_recall_fscore_support as score\n",
    "from sklearn.metrics import classification_report, accuracy_score, f1_score\n",
    "from sklearn.metrics import confusion_matrix, roc_curve, precision_recall_curve\n",
    "\n",
    "from imblearn.over_sampling import SMOTE, RandomOverSampler\n",
    "from imblearn.under_sampling import RandomUnderSampler\n",
    "from imblearn.ensemble import BalancedBaggingClassifier"
   ]
  },
  {
   "cell_type": "markdown",
   "id": "68845682",
   "metadata": {},
   "source": [
    "**Ignoring Error Warnings**"
   ]
  },
  {
   "cell_type": "code",
   "execution_count": 15,
   "id": "db1c2776",
   "metadata": {},
   "outputs": [],
   "source": [
    "import warnings \n",
    "warnings.filterwarnings('ignore')"
   ]
  },
  {
   "cell_type": "code",
   "execution_count": 16,
   "id": "1926712b",
   "metadata": {},
   "outputs": [],
   "source": [
    "data = pd.read_csv('D:/Rick/Machine Learning/Datasets/automobile_loan_default/Train_Dataset.csv')"
   ]
  },
  {
   "cell_type": "code",
   "execution_count": 17,
   "id": "747243de",
   "metadata": {},
   "outputs": [
    {
     "data": {
      "text/html": [
       "<div>\n",
       "<style scoped>\n",
       "    .dataframe tbody tr th:only-of-type {\n",
       "        vertical-align: middle;\n",
       "    }\n",
       "\n",
       "    .dataframe tbody tr th {\n",
       "        vertical-align: top;\n",
       "    }\n",
       "\n",
       "    .dataframe thead th {\n",
       "        text-align: right;\n",
       "    }\n",
       "</style>\n",
       "<table border=\"1\" class=\"dataframe\">\n",
       "  <thead>\n",
       "    <tr style=\"text-align: right;\">\n",
       "      <th></th>\n",
       "      <th>ID</th>\n",
       "      <th>Client_Income</th>\n",
       "      <th>Car_Owned</th>\n",
       "      <th>Bike_Owned</th>\n",
       "      <th>Active_Loan</th>\n",
       "      <th>House_Own</th>\n",
       "      <th>Child_Count</th>\n",
       "      <th>Credit_Amount</th>\n",
       "      <th>Loan_Annuity</th>\n",
       "      <th>Accompany_Client</th>\n",
       "      <th>...</th>\n",
       "      <th>Client_Permanent_Match_Tag</th>\n",
       "      <th>Client_Contact_Work_Tag</th>\n",
       "      <th>Type_Organization</th>\n",
       "      <th>Score_Source_1</th>\n",
       "      <th>Score_Source_2</th>\n",
       "      <th>Score_Source_3</th>\n",
       "      <th>Social_Circle_Default</th>\n",
       "      <th>Phone_Change</th>\n",
       "      <th>Credit_Bureau</th>\n",
       "      <th>Default</th>\n",
       "    </tr>\n",
       "  </thead>\n",
       "  <tbody>\n",
       "    <tr>\n",
       "      <th>0</th>\n",
       "      <td>12142509</td>\n",
       "      <td>6750</td>\n",
       "      <td>0.0</td>\n",
       "      <td>0.0</td>\n",
       "      <td>1.0</td>\n",
       "      <td>0.0</td>\n",
       "      <td>0.0</td>\n",
       "      <td>61190.55</td>\n",
       "      <td>3416.85</td>\n",
       "      <td>Alone</td>\n",
       "      <td>...</td>\n",
       "      <td>Yes</td>\n",
       "      <td>Yes</td>\n",
       "      <td>Self-employed</td>\n",
       "      <td>0.568066</td>\n",
       "      <td>0.478787</td>\n",
       "      <td>NaN</td>\n",
       "      <td>0.0186</td>\n",
       "      <td>63.0</td>\n",
       "      <td>NaN</td>\n",
       "      <td>0</td>\n",
       "    </tr>\n",
       "    <tr>\n",
       "      <th>1</th>\n",
       "      <td>12138936</td>\n",
       "      <td>20250</td>\n",
       "      <td>1.0</td>\n",
       "      <td>0.0</td>\n",
       "      <td>1.0</td>\n",
       "      <td>NaN</td>\n",
       "      <td>0.0</td>\n",
       "      <td>15282</td>\n",
       "      <td>1826.55</td>\n",
       "      <td>Alone</td>\n",
       "      <td>...</td>\n",
       "      <td>Yes</td>\n",
       "      <td>Yes</td>\n",
       "      <td>Government</td>\n",
       "      <td>0.563360</td>\n",
       "      <td>0.215068</td>\n",
       "      <td>NaN</td>\n",
       "      <td>NaN</td>\n",
       "      <td>NaN</td>\n",
       "      <td>NaN</td>\n",
       "      <td>0</td>\n",
       "    </tr>\n",
       "    <tr>\n",
       "      <th>2</th>\n",
       "      <td>12181264</td>\n",
       "      <td>18000</td>\n",
       "      <td>0.0</td>\n",
       "      <td>0.0</td>\n",
       "      <td>1.0</td>\n",
       "      <td>0.0</td>\n",
       "      <td>1.0</td>\n",
       "      <td>59527.35</td>\n",
       "      <td>2788.2</td>\n",
       "      <td>Alone</td>\n",
       "      <td>...</td>\n",
       "      <td>Yes</td>\n",
       "      <td>Yes</td>\n",
       "      <td>Self-employed</td>\n",
       "      <td>NaN</td>\n",
       "      <td>0.552795</td>\n",
       "      <td>0.329655</td>\n",
       "      <td>0.0742</td>\n",
       "      <td>277.0</td>\n",
       "      <td>0.0</td>\n",
       "      <td>0</td>\n",
       "    </tr>\n",
       "    <tr>\n",
       "      <th>3</th>\n",
       "      <td>12188929</td>\n",
       "      <td>15750</td>\n",
       "      <td>0.0</td>\n",
       "      <td>0.0</td>\n",
       "      <td>1.0</td>\n",
       "      <td>1.0</td>\n",
       "      <td>0.0</td>\n",
       "      <td>53870.4</td>\n",
       "      <td>2295.45</td>\n",
       "      <td>Alone</td>\n",
       "      <td>...</td>\n",
       "      <td>Yes</td>\n",
       "      <td>Yes</td>\n",
       "      <td>XNA</td>\n",
       "      <td>NaN</td>\n",
       "      <td>0.135182</td>\n",
       "      <td>0.631355</td>\n",
       "      <td>NaN</td>\n",
       "      <td>1700.0</td>\n",
       "      <td>3.0</td>\n",
       "      <td>0</td>\n",
       "    </tr>\n",
       "    <tr>\n",
       "      <th>4</th>\n",
       "      <td>12133385</td>\n",
       "      <td>33750</td>\n",
       "      <td>1.0</td>\n",
       "      <td>0.0</td>\n",
       "      <td>1.0</td>\n",
       "      <td>0.0</td>\n",
       "      <td>2.0</td>\n",
       "      <td>133988.4</td>\n",
       "      <td>3547.35</td>\n",
       "      <td>Alone</td>\n",
       "      <td>...</td>\n",
       "      <td>Yes</td>\n",
       "      <td>Yes</td>\n",
       "      <td>Business Entity Type 3</td>\n",
       "      <td>0.508199</td>\n",
       "      <td>0.301182</td>\n",
       "      <td>0.355639</td>\n",
       "      <td>0.2021</td>\n",
       "      <td>674.0</td>\n",
       "      <td>1.0</td>\n",
       "      <td>0</td>\n",
       "    </tr>\n",
       "    <tr>\n",
       "      <th>5</th>\n",
       "      <td>12191614</td>\n",
       "      <td>11250</td>\n",
       "      <td>0.0</td>\n",
       "      <td>1.0</td>\n",
       "      <td>1.0</td>\n",
       "      <td>1.0</td>\n",
       "      <td>1.0</td>\n",
       "      <td>13752</td>\n",
       "      <td>653.85</td>\n",
       "      <td>Alone</td>\n",
       "      <td>...</td>\n",
       "      <td>Yes</td>\n",
       "      <td>Yes</td>\n",
       "      <td>Other</td>\n",
       "      <td>NaN</td>\n",
       "      <td>0.697928</td>\n",
       "      <td>0.420611</td>\n",
       "      <td>0.0639</td>\n",
       "      <td>739.0</td>\n",
       "      <td>0.0</td>\n",
       "      <td>0</td>\n",
       "    </tr>\n",
       "    <tr>\n",
       "      <th>6</th>\n",
       "      <td>12128086</td>\n",
       "      <td>15750</td>\n",
       "      <td>1.0</td>\n",
       "      <td>1.0</td>\n",
       "      <td>0.0</td>\n",
       "      <td>1.0</td>\n",
       "      <td>0.0</td>\n",
       "      <td>128835</td>\n",
       "      <td>3779.55</td>\n",
       "      <td>Alone</td>\n",
       "      <td>...</td>\n",
       "      <td>Yes</td>\n",
       "      <td>Yes</td>\n",
       "      <td>XNA</td>\n",
       "      <td>0.729913</td>\n",
       "      <td>0.602545</td>\n",
       "      <td>0.511892</td>\n",
       "      <td>0.2041</td>\n",
       "      <td>0.0</td>\n",
       "      <td>3.0</td>\n",
       "      <td>0</td>\n",
       "    </tr>\n",
       "    <tr>\n",
       "      <th>7</th>\n",
       "      <td>12215264</td>\n",
       "      <td>13500</td>\n",
       "      <td>0.0</td>\n",
       "      <td>0.0</td>\n",
       "      <td>1.0</td>\n",
       "      <td>1.0</td>\n",
       "      <td>0.0</td>\n",
       "      <td>60415.2</td>\n",
       "      <td>3097.8</td>\n",
       "      <td>Alone</td>\n",
       "      <td>...</td>\n",
       "      <td>Yes</td>\n",
       "      <td>Yes</td>\n",
       "      <td>XNA</td>\n",
       "      <td>0.711468</td>\n",
       "      <td>0.657508</td>\n",
       "      <td>0.549597</td>\n",
       "      <td>NaN</td>\n",
       "      <td>1687.0</td>\n",
       "      <td>4.0</td>\n",
       "      <td>0</td>\n",
       "    </tr>\n",
       "    <tr>\n",
       "      <th>8</th>\n",
       "      <td>12159147</td>\n",
       "      <td>13500</td>\n",
       "      <td>1.0</td>\n",
       "      <td>1.0</td>\n",
       "      <td>0.0</td>\n",
       "      <td>1.0</td>\n",
       "      <td>1.0</td>\n",
       "      <td>45000</td>\n",
       "      <td>1200.15</td>\n",
       "      <td>Relative</td>\n",
       "      <td>...</td>\n",
       "      <td>Yes</td>\n",
       "      <td>Yes</td>\n",
       "      <td>Self-employed</td>\n",
       "      <td>0.475727</td>\n",
       "      <td>0.637594</td>\n",
       "      <td>0.553165</td>\n",
       "      <td>0.1670</td>\n",
       "      <td>1611.0</td>\n",
       "      <td>0.0</td>\n",
       "      <td>0</td>\n",
       "    </tr>\n",
       "    <tr>\n",
       "      <th>9</th>\n",
       "      <td>12130547</td>\n",
       "      <td>12150</td>\n",
       "      <td>0.0</td>\n",
       "      <td>0.0</td>\n",
       "      <td>0.0</td>\n",
       "      <td>1.0</td>\n",
       "      <td>0.0</td>\n",
       "      <td>16320.15</td>\n",
       "      <td>1294.65</td>\n",
       "      <td>Alone</td>\n",
       "      <td>...</td>\n",
       "      <td>Yes</td>\n",
       "      <td>Yes</td>\n",
       "      <td>XNA</td>\n",
       "      <td>0.682285</td>\n",
       "      <td>0.063343</td>\n",
       "      <td>0.08065</td>\n",
       "      <td>NaN</td>\n",
       "      <td>533.0</td>\n",
       "      <td>5.0</td>\n",
       "      <td>0</td>\n",
       "    </tr>\n",
       "  </tbody>\n",
       "</table>\n",
       "<p>10 rows × 40 columns</p>\n",
       "</div>"
      ],
      "text/plain": [
       "         ID Client_Income  Car_Owned  Bike_Owned  Active_Loan  House_Own  \\\n",
       "0  12142509          6750        0.0         0.0          1.0        0.0   \n",
       "1  12138936         20250        1.0         0.0          1.0        NaN   \n",
       "2  12181264         18000        0.0         0.0          1.0        0.0   \n",
       "3  12188929         15750        0.0         0.0          1.0        1.0   \n",
       "4  12133385         33750        1.0         0.0          1.0        0.0   \n",
       "5  12191614         11250        0.0         1.0          1.0        1.0   \n",
       "6  12128086         15750        1.0         1.0          0.0        1.0   \n",
       "7  12215264         13500        0.0         0.0          1.0        1.0   \n",
       "8  12159147         13500        1.0         1.0          0.0        1.0   \n",
       "9  12130547         12150        0.0         0.0          0.0        1.0   \n",
       "\n",
       "   Child_Count Credit_Amount Loan_Annuity Accompany_Client  ...  \\\n",
       "0          0.0      61190.55      3416.85            Alone  ...   \n",
       "1          0.0         15282      1826.55            Alone  ...   \n",
       "2          1.0      59527.35       2788.2            Alone  ...   \n",
       "3          0.0       53870.4      2295.45            Alone  ...   \n",
       "4          2.0      133988.4      3547.35            Alone  ...   \n",
       "5          1.0         13752       653.85            Alone  ...   \n",
       "6          0.0        128835      3779.55            Alone  ...   \n",
       "7          0.0       60415.2       3097.8            Alone  ...   \n",
       "8          1.0         45000      1200.15         Relative  ...   \n",
       "9          0.0      16320.15      1294.65            Alone  ...   \n",
       "\n",
       "  Client_Permanent_Match_Tag Client_Contact_Work_Tag       Type_Organization  \\\n",
       "0                        Yes                     Yes           Self-employed   \n",
       "1                        Yes                     Yes              Government   \n",
       "2                        Yes                     Yes           Self-employed   \n",
       "3                        Yes                     Yes                     XNA   \n",
       "4                        Yes                     Yes  Business Entity Type 3   \n",
       "5                        Yes                     Yes                   Other   \n",
       "6                        Yes                     Yes                     XNA   \n",
       "7                        Yes                     Yes                     XNA   \n",
       "8                        Yes                     Yes           Self-employed   \n",
       "9                        Yes                     Yes                     XNA   \n",
       "\n",
       "  Score_Source_1 Score_Source_2 Score_Source_3 Social_Circle_Default  \\\n",
       "0       0.568066       0.478787            NaN                0.0186   \n",
       "1       0.563360       0.215068            NaN                   NaN   \n",
       "2            NaN       0.552795       0.329655                0.0742   \n",
       "3            NaN       0.135182       0.631355                   NaN   \n",
       "4       0.508199       0.301182       0.355639                0.2021   \n",
       "5            NaN       0.697928       0.420611                0.0639   \n",
       "6       0.729913       0.602545       0.511892                0.2041   \n",
       "7       0.711468       0.657508       0.549597                   NaN   \n",
       "8       0.475727       0.637594       0.553165                0.1670   \n",
       "9       0.682285       0.063343        0.08065                   NaN   \n",
       "\n",
       "  Phone_Change Credit_Bureau Default  \n",
       "0         63.0           NaN       0  \n",
       "1          NaN           NaN       0  \n",
       "2        277.0           0.0       0  \n",
       "3       1700.0           3.0       0  \n",
       "4        674.0           1.0       0  \n",
       "5        739.0           0.0       0  \n",
       "6          0.0           3.0       0  \n",
       "7       1687.0           4.0       0  \n",
       "8       1611.0           0.0       0  \n",
       "9        533.0           5.0       0  \n",
       "\n",
       "[10 rows x 40 columns]"
      ]
     },
     "execution_count": 17,
     "metadata": {},
     "output_type": "execute_result"
    }
   ],
   "source": [
    "data.head(10)"
   ]
  },
  {
   "cell_type": "code",
   "execution_count": 18,
   "id": "185b1804",
   "metadata": {},
   "outputs": [
    {
     "data": {
      "text/plain": [
       "(121856, 40)"
      ]
     },
     "execution_count": 18,
     "metadata": {},
     "output_type": "execute_result"
    }
   ],
   "source": [
    "data.shape"
   ]
  },
  {
   "cell_type": "markdown",
   "id": "52c76cb0",
   "metadata": {},
   "source": [
    "The dataset contains 1,21,856 rows and 40 columns, including the target variable."
   ]
  },
  {
   "cell_type": "code",
   "execution_count": 19,
   "id": "952b0b3f",
   "metadata": {},
   "outputs": [],
   "source": [
    "data.columns = data.columns.str.replace('_', ' ')"
   ]
  },
  {
   "cell_type": "code",
   "execution_count": 20,
   "id": "89f352ad",
   "metadata": {},
   "outputs": [
    {
     "data": {
      "text/plain": [
       "ID                              int64\n",
       "Client Income                  object\n",
       "Car Owned                     float64\n",
       "Bike Owned                    float64\n",
       "Active Loan                   float64\n",
       "House Own                     float64\n",
       "Child Count                   float64\n",
       "Credit Amount                  object\n",
       "Loan Annuity                   object\n",
       "Accompany Client               object\n",
       "Client Income Type             object\n",
       "Client Education               object\n",
       "Client Marital Status          object\n",
       "Client Gender                  object\n",
       "Loan Contract Type             object\n",
       "Client Housing Type            object\n",
       "Population Region Relative     object\n",
       "Age Days                       object\n",
       "Employed Days                  object\n",
       "Registration Days              object\n",
       "ID Days                        object\n",
       "Own House Age                 float64\n",
       "Mobile Tag                      int64\n",
       "Homephone Tag                   int64\n",
       "Workphone Working               int64\n",
       "Client Occupation              object\n",
       "Client Family Members         float64\n",
       "Cleint City Rating            float64\n",
       "Application Process Day       float64\n",
       "Application Process Hour      float64\n",
       "Client Permanent Match Tag     object\n",
       "Client Contact Work Tag        object\n",
       "Type Organization              object\n",
       "Score Source 1                float64\n",
       "Score Source 2                float64\n",
       "Score Source 3                 object\n",
       "Social Circle Default         float64\n",
       "Phone Change                  float64\n",
       "Credit Bureau                 float64\n",
       "Default                         int64\n",
       "dtype: object"
      ]
     },
     "execution_count": 20,
     "metadata": {},
     "output_type": "execute_result"
    }
   ],
   "source": [
    "data.dtypes"
   ]
  },
  {
   "cell_type": "code",
   "execution_count": 21,
   "id": "d3e232fc",
   "metadata": {},
   "outputs": [],
   "source": [
    "columns = ['Client Income', 'Credit Amount', 'Loan Annuity', 'Population Region Relative', 'Age Days', \n",
    "           'Employed Days', 'Registration Days', 'ID Days', 'Score Source 3']\n",
    "\n",
    "data[columns] = data[columns].replace(['$', '@', '#VALUE!', '#', 'x', '&'], np.nan).astype(float)"
   ]
  },
  {
   "cell_type": "code",
   "execution_count": 22,
   "id": "e40ce416",
   "metadata": {},
   "outputs": [
    {
     "data": {
      "text/plain": [
       "ID                              int64\n",
       "Client Income                 float64\n",
       "Car Owned                     float64\n",
       "Bike Owned                    float64\n",
       "Active Loan                   float64\n",
       "House Own                     float64\n",
       "Child Count                   float64\n",
       "Credit Amount                 float64\n",
       "Loan Annuity                  float64\n",
       "Accompany Client               object\n",
       "Client Income Type             object\n",
       "Client Education               object\n",
       "Client Marital Status          object\n",
       "Client Gender                  object\n",
       "Loan Contract Type             object\n",
       "Client Housing Type            object\n",
       "Population Region Relative    float64\n",
       "Age Days                      float64\n",
       "Employed Days                 float64\n",
       "Registration Days             float64\n",
       "ID Days                       float64\n",
       "Own House Age                 float64\n",
       "Mobile Tag                      int64\n",
       "Homephone Tag                   int64\n",
       "Workphone Working               int64\n",
       "Client Occupation              object\n",
       "Client Family Members         float64\n",
       "Cleint City Rating            float64\n",
       "Application Process Day       float64\n",
       "Application Process Hour      float64\n",
       "Client Permanent Match Tag     object\n",
       "Client Contact Work Tag        object\n",
       "Type Organization              object\n",
       "Score Source 1                float64\n",
       "Score Source 2                float64\n",
       "Score Source 3                float64\n",
       "Social Circle Default         float64\n",
       "Phone Change                  float64\n",
       "Credit Bureau                 float64\n",
       "Default                         int64\n",
       "dtype: object"
      ]
     },
     "execution_count": 22,
     "metadata": {},
     "output_type": "execute_result"
    }
   ],
   "source": [
    "data.dtypes"
   ]
  },
  {
   "cell_type": "markdown",
   "id": "8d078bb4",
   "metadata": {},
   "source": [
    "The `ID` variable in the dataset won't do much help in the prediction of the response. So, we will drop the `ID` column from the dataset."
   ]
  },
  {
   "cell_type": "code",
   "execution_count": 23,
   "id": "c929369c",
   "metadata": {},
   "outputs": [],
   "source": [
    "data.drop(['ID'], axis = 1, inplace = True)"
   ]
  },
  {
   "cell_type": "markdown",
   "id": "0a72b993",
   "metadata": {},
   "source": [
    "## Handling the Missing Values"
   ]
  },
  {
   "cell_type": "code",
   "execution_count": 24,
   "id": "fc13ab42",
   "metadata": {},
   "outputs": [
    {
     "data": {
      "text/plain": [
       "Client Income                  3622\n",
       "Car Owned                      3581\n",
       "Bike Owned                     3624\n",
       "Active Loan                    3635\n",
       "House Own                      3661\n",
       "Child Count                    3638\n",
       "Credit Amount                  3637\n",
       "Loan Annuity                   4826\n",
       "Accompany Client               1746\n",
       "Client Income Type             3701\n",
       "Client Education               3645\n",
       "Client Marital Status          3473\n",
       "Client Gender                  2413\n",
       "Loan Contract Type             3651\n",
       "Client Housing Type            3687\n",
       "Population Region Relative     4868\n",
       "Age Days                       3617\n",
       "Employed Days                  3666\n",
       "Registration Days              3631\n",
       "ID Days                        5985\n",
       "Own House Age                 80095\n",
       "Mobile Tag                        0\n",
       "Homephone Tag                     0\n",
       "Workphone Working                 0\n",
       "Client Occupation             41435\n",
       "Client Family Members          2410\n",
       "Cleint City Rating             2409\n",
       "Application Process Day        2428\n",
       "Application Process Hour       3663\n",
       "Client Permanent Match Tag        0\n",
       "Client Contact Work Tag           0\n",
       "Type Organization              3609\n",
       "Score Source 1                68835\n",
       "Score Source 2                 5686\n",
       "Score Source 3                26922\n",
       "Social Circle Default         61928\n",
       "Phone Change                   3664\n",
       "Credit Bureau                 18540\n",
       "Default                           0\n",
       "dtype: int64"
      ]
     },
     "execution_count": 24,
     "metadata": {},
     "output_type": "execute_result"
    }
   ],
   "source": [
    "data.isnull().sum()"
   ]
  },
  {
   "cell_type": "code",
   "execution_count": 25,
   "id": "eeb6f60d",
   "metadata": {},
   "outputs": [],
   "source": [
    "data.drop(['Own House Age', 'Client Occupation', 'Type Organization', 'Score Source 3'], axis = 1, inplace = True)"
   ]
  },
  {
   "cell_type": "code",
   "execution_count": 26,
   "id": "c3259913",
   "metadata": {},
   "outputs": [],
   "source": [
    "n_columns = data.select_dtypes(exclude = ['object']).columns\n",
    "\n",
    "for col in n_columns:\n",
    "    median = data[col].median()\n",
    "    data[col].fillna(median, inplace = True)"
   ]
  },
  {
   "cell_type": "markdown",
   "id": "19458803",
   "metadata": {},
   "source": [
    "We replaced the missing values with the median value of that column."
   ]
  },
  {
   "cell_type": "code",
   "execution_count": 27,
   "id": "8c173049",
   "metadata": {},
   "outputs": [
    {
     "data": {
      "text/plain": [
       "Client Income                    0\n",
       "Car Owned                        0\n",
       "Bike Owned                       0\n",
       "Active Loan                      0\n",
       "House Own                        0\n",
       "Child Count                      0\n",
       "Credit Amount                    0\n",
       "Loan Annuity                     0\n",
       "Accompany Client              1746\n",
       "Client Income Type            3701\n",
       "Client Education              3645\n",
       "Client Marital Status         3473\n",
       "Client Gender                 2413\n",
       "Loan Contract Type            3651\n",
       "Client Housing Type           3687\n",
       "Population Region Relative       0\n",
       "Age Days                         0\n",
       "Employed Days                    0\n",
       "Registration Days                0\n",
       "ID Days                          0\n",
       "Mobile Tag                       0\n",
       "Homephone Tag                    0\n",
       "Workphone Working                0\n",
       "Client Family Members            0\n",
       "Cleint City Rating               0\n",
       "Application Process Day          0\n",
       "Application Process Hour         0\n",
       "Client Permanent Match Tag       0\n",
       "Client Contact Work Tag          0\n",
       "Score Source 1                   0\n",
       "Score Source 2                   0\n",
       "Social Circle Default            0\n",
       "Phone Change                     0\n",
       "Credit Bureau                    0\n",
       "Default                          0\n",
       "dtype: int64"
      ]
     },
     "execution_count": 27,
     "metadata": {},
     "output_type": "execute_result"
    }
   ],
   "source": [
    "data.isnull().sum()"
   ]
  },
  {
   "cell_type": "code",
   "execution_count": 28,
   "id": "26211000",
   "metadata": {},
   "outputs": [
    {
     "data": {
      "text/html": [
       "<div>\n",
       "<style scoped>\n",
       "    .dataframe tbody tr th:only-of-type {\n",
       "        vertical-align: middle;\n",
       "    }\n",
       "\n",
       "    .dataframe tbody tr th {\n",
       "        vertical-align: top;\n",
       "    }\n",
       "\n",
       "    .dataframe thead th {\n",
       "        text-align: right;\n",
       "    }\n",
       "</style>\n",
       "<table border=\"1\" class=\"dataframe\">\n",
       "  <thead>\n",
       "    <tr style=\"text-align: right;\">\n",
       "      <th></th>\n",
       "      <th>count</th>\n",
       "      <th>mean</th>\n",
       "      <th>std</th>\n",
       "      <th>min</th>\n",
       "      <th>25%</th>\n",
       "      <th>50%</th>\n",
       "      <th>75%</th>\n",
       "      <th>max</th>\n",
       "    </tr>\n",
       "  </thead>\n",
       "  <tbody>\n",
       "    <tr>\n",
       "      <th>Client Income</th>\n",
       "      <td>121856.0</td>\n",
       "      <td>16791.917344</td>\n",
       "      <td>11373.089724</td>\n",
       "      <td>2565.000000</td>\n",
       "      <td>11250.000000</td>\n",
       "      <td>14400.000000</td>\n",
       "      <td>20250.000000</td>\n",
       "      <td>1.800009e+06</td>\n",
       "    </tr>\n",
       "    <tr>\n",
       "      <th>Car Owned</th>\n",
       "      <td>121856.0</td>\n",
       "      <td>0.332778</td>\n",
       "      <td>0.471210</td>\n",
       "      <td>0.000000</td>\n",
       "      <td>0.000000</td>\n",
       "      <td>0.000000</td>\n",
       "      <td>1.000000</td>\n",
       "      <td>1.000000e+00</td>\n",
       "    </tr>\n",
       "    <tr>\n",
       "      <th>Bike Owned</th>\n",
       "      <td>121856.0</td>\n",
       "      <td>0.322381</td>\n",
       "      <td>0.467390</td>\n",
       "      <td>0.000000</td>\n",
       "      <td>0.000000</td>\n",
       "      <td>0.000000</td>\n",
       "      <td>1.000000</td>\n",
       "      <td>1.000000e+00</td>\n",
       "    </tr>\n",
       "    <tr>\n",
       "      <th>Active Loan</th>\n",
       "      <td>121856.0</td>\n",
       "      <td>0.484285</td>\n",
       "      <td>0.499755</td>\n",
       "      <td>0.000000</td>\n",
       "      <td>0.000000</td>\n",
       "      <td>0.000000</td>\n",
       "      <td>1.000000</td>\n",
       "      <td>1.000000e+00</td>\n",
       "    </tr>\n",
       "    <tr>\n",
       "      <th>House Own</th>\n",
       "      <td>121856.0</td>\n",
       "      <td>0.701311</td>\n",
       "      <td>0.457685</td>\n",
       "      <td>0.000000</td>\n",
       "      <td>0.000000</td>\n",
       "      <td>1.000000</td>\n",
       "      <td>1.000000</td>\n",
       "      <td>1.000000e+00</td>\n",
       "    </tr>\n",
       "    <tr>\n",
       "      <th>Child Count</th>\n",
       "      <td>121856.0</td>\n",
       "      <td>0.405306</td>\n",
       "      <td>0.721353</td>\n",
       "      <td>0.000000</td>\n",
       "      <td>0.000000</td>\n",
       "      <td>0.000000</td>\n",
       "      <td>1.000000</td>\n",
       "      <td>1.900000e+01</td>\n",
       "    </tr>\n",
       "    <tr>\n",
       "      <th>Credit Amount</th>\n",
       "      <td>121856.0</td>\n",
       "      <td>59798.866099</td>\n",
       "      <td>39768.996022</td>\n",
       "      <td>4500.000000</td>\n",
       "      <td>27450.000000</td>\n",
       "      <td>51750.000000</td>\n",
       "      <td>80865.000000</td>\n",
       "      <td>4.050000e+05</td>\n",
       "    </tr>\n",
       "    <tr>\n",
       "      <th>Loan Annuity</th>\n",
       "      <td>121856.0</td>\n",
       "      <td>2712.482001</td>\n",
       "      <td>1432.884876</td>\n",
       "      <td>217.350000</td>\n",
       "      <td>1687.500000</td>\n",
       "      <td>2499.750000</td>\n",
       "      <td>3407.962500</td>\n",
       "      <td>2.250000e+04</td>\n",
       "    </tr>\n",
       "    <tr>\n",
       "      <th>Population Region Relative</th>\n",
       "      <td>121856.0</td>\n",
       "      <td>0.022453</td>\n",
       "      <td>0.405271</td>\n",
       "      <td>0.000533</td>\n",
       "      <td>0.010032</td>\n",
       "      <td>0.018850</td>\n",
       "      <td>0.026392</td>\n",
       "      <td>1.000000e+02</td>\n",
       "    </tr>\n",
       "    <tr>\n",
       "      <th>Age Days</th>\n",
       "      <td>121856.0</td>\n",
       "      <td>16018.713399</td>\n",
       "      <td>4301.353723</td>\n",
       "      <td>7676.000000</td>\n",
       "      <td>12512.000000</td>\n",
       "      <td>15734.000000</td>\n",
       "      <td>19544.000000</td>\n",
       "      <td>2.520100e+04</td>\n",
       "    </tr>\n",
       "    <tr>\n",
       "      <th>Employed Days</th>\n",
       "      <td>121856.0</td>\n",
       "      <td>65200.308545</td>\n",
       "      <td>137314.189139</td>\n",
       "      <td>0.000000</td>\n",
       "      <td>962.000000</td>\n",
       "      <td>2212.000000</td>\n",
       "      <td>5385.000000</td>\n",
       "      <td>3.652430e+05</td>\n",
       "    </tr>\n",
       "    <tr>\n",
       "      <th>Registration Days</th>\n",
       "      <td>121856.0</td>\n",
       "      <td>4960.794914</td>\n",
       "      <td>3462.758841</td>\n",
       "      <td>0.000000</td>\n",
       "      <td>2102.000000</td>\n",
       "      <td>4493.000000</td>\n",
       "      <td>7350.000000</td>\n",
       "      <td>2.373800e+04</td>\n",
       "    </tr>\n",
       "    <tr>\n",
       "      <th>ID Days</th>\n",
       "      <td>121856.0</td>\n",
       "      <td>2999.972295</td>\n",
       "      <td>1475.314242</td>\n",
       "      <td>0.000000</td>\n",
       "      <td>1789.000000</td>\n",
       "      <td>3242.000000</td>\n",
       "      <td>4263.000000</td>\n",
       "      <td>7.197000e+03</td>\n",
       "    </tr>\n",
       "    <tr>\n",
       "      <th>Mobile Tag</th>\n",
       "      <td>121856.0</td>\n",
       "      <td>0.999992</td>\n",
       "      <td>0.002865</td>\n",
       "      <td>0.000000</td>\n",
       "      <td>1.000000</td>\n",
       "      <td>1.000000</td>\n",
       "      <td>1.000000</td>\n",
       "      <td>1.000000e+00</td>\n",
       "    </tr>\n",
       "    <tr>\n",
       "      <th>Homephone Tag</th>\n",
       "      <td>121856.0</td>\n",
       "      <td>0.200499</td>\n",
       "      <td>0.400375</td>\n",
       "      <td>0.000000</td>\n",
       "      <td>0.000000</td>\n",
       "      <td>0.000000</td>\n",
       "      <td>0.000000</td>\n",
       "      <td>1.000000e+00</td>\n",
       "    </tr>\n",
       "    <tr>\n",
       "      <th>Workphone Working</th>\n",
       "      <td>121856.0</td>\n",
       "      <td>0.281201</td>\n",
       "      <td>0.449587</td>\n",
       "      <td>0.000000</td>\n",
       "      <td>0.000000</td>\n",
       "      <td>0.000000</td>\n",
       "      <td>1.000000</td>\n",
       "      <td>1.000000e+00</td>\n",
       "    </tr>\n",
       "    <tr>\n",
       "      <th>Client Family Members</th>\n",
       "      <td>121856.0</td>\n",
       "      <td>2.151277</td>\n",
       "      <td>0.903871</td>\n",
       "      <td>1.000000</td>\n",
       "      <td>2.000000</td>\n",
       "      <td>2.000000</td>\n",
       "      <td>3.000000</td>\n",
       "      <td>1.600000e+01</td>\n",
       "    </tr>\n",
       "    <tr>\n",
       "      <th>Cleint City Rating</th>\n",
       "      <td>121856.0</td>\n",
       "      <td>2.029445</td>\n",
       "      <td>0.499414</td>\n",
       "      <td>1.000000</td>\n",
       "      <td>2.000000</td>\n",
       "      <td>2.000000</td>\n",
       "      <td>2.000000</td>\n",
       "      <td>3.000000e+00</td>\n",
       "    </tr>\n",
       "    <tr>\n",
       "      <th>Application Process Day</th>\n",
       "      <td>121856.0</td>\n",
       "      <td>3.156554</td>\n",
       "      <td>1.741575</td>\n",
       "      <td>0.000000</td>\n",
       "      <td>2.000000</td>\n",
       "      <td>3.000000</td>\n",
       "      <td>5.000000</td>\n",
       "      <td>6.000000e+00</td>\n",
       "    </tr>\n",
       "    <tr>\n",
       "      <th>Application Process Hour</th>\n",
       "      <td>121856.0</td>\n",
       "      <td>12.061203</td>\n",
       "      <td>3.231027</td>\n",
       "      <td>0.000000</td>\n",
       "      <td>10.000000</td>\n",
       "      <td>12.000000</td>\n",
       "      <td>14.000000</td>\n",
       "      <td>2.300000e+01</td>\n",
       "    </tr>\n",
       "    <tr>\n",
       "      <th>Score Source 1</th>\n",
       "      <td>121856.0</td>\n",
       "      <td>0.503158</td>\n",
       "      <td>0.139327</td>\n",
       "      <td>0.014568</td>\n",
       "      <td>0.504657</td>\n",
       "      <td>0.504657</td>\n",
       "      <td>0.504657</td>\n",
       "      <td>9.457413e-01</td>\n",
       "    </tr>\n",
       "    <tr>\n",
       "      <th>Score Source 2</th>\n",
       "      <td>121856.0</td>\n",
       "      <td>0.520788</td>\n",
       "      <td>0.722837</td>\n",
       "      <td>0.000005</td>\n",
       "      <td>0.401996</td>\n",
       "      <td>0.564978</td>\n",
       "      <td>0.659828</td>\n",
       "      <td>1.000000e+02</td>\n",
       "    </tr>\n",
       "    <tr>\n",
       "      <th>Social Circle Default</th>\n",
       "      <td>121856.0</td>\n",
       "      <td>0.102828</td>\n",
       "      <td>0.077070</td>\n",
       "      <td>0.000000</td>\n",
       "      <td>0.088700</td>\n",
       "      <td>0.088700</td>\n",
       "      <td>0.088700</td>\n",
       "      <td>1.000000e+00</td>\n",
       "    </tr>\n",
       "    <tr>\n",
       "      <th>Phone Change</th>\n",
       "      <td>121856.0</td>\n",
       "      <td>955.878734</td>\n",
       "      <td>816.200383</td>\n",
       "      <td>0.000000</td>\n",
       "      <td>287.000000</td>\n",
       "      <td>755.000000</td>\n",
       "      <td>1550.000000</td>\n",
       "      <td>4.185000e+03</td>\n",
       "    </tr>\n",
       "    <tr>\n",
       "      <th>Credit Bureau</th>\n",
       "      <td>121856.0</td>\n",
       "      <td>1.755506</td>\n",
       "      <td>1.744053</td>\n",
       "      <td>0.000000</td>\n",
       "      <td>1.000000</td>\n",
       "      <td>1.000000</td>\n",
       "      <td>3.000000</td>\n",
       "      <td>2.200000e+01</td>\n",
       "    </tr>\n",
       "    <tr>\n",
       "      <th>Default</th>\n",
       "      <td>121856.0</td>\n",
       "      <td>0.080792</td>\n",
       "      <td>0.272517</td>\n",
       "      <td>0.000000</td>\n",
       "      <td>0.000000</td>\n",
       "      <td>0.000000</td>\n",
       "      <td>0.000000</td>\n",
       "      <td>1.000000e+00</td>\n",
       "    </tr>\n",
       "  </tbody>\n",
       "</table>\n",
       "</div>"
      ],
      "text/plain": [
       "                               count          mean            std  \\\n",
       "Client Income               121856.0  16791.917344   11373.089724   \n",
       "Car Owned                   121856.0      0.332778       0.471210   \n",
       "Bike Owned                  121856.0      0.322381       0.467390   \n",
       "Active Loan                 121856.0      0.484285       0.499755   \n",
       "House Own                   121856.0      0.701311       0.457685   \n",
       "Child Count                 121856.0      0.405306       0.721353   \n",
       "Credit Amount               121856.0  59798.866099   39768.996022   \n",
       "Loan Annuity                121856.0   2712.482001    1432.884876   \n",
       "Population Region Relative  121856.0      0.022453       0.405271   \n",
       "Age Days                    121856.0  16018.713399    4301.353723   \n",
       "Employed Days               121856.0  65200.308545  137314.189139   \n",
       "Registration Days           121856.0   4960.794914    3462.758841   \n",
       "ID Days                     121856.0   2999.972295    1475.314242   \n",
       "Mobile Tag                  121856.0      0.999992       0.002865   \n",
       "Homephone Tag               121856.0      0.200499       0.400375   \n",
       "Workphone Working           121856.0      0.281201       0.449587   \n",
       "Client Family Members       121856.0      2.151277       0.903871   \n",
       "Cleint City Rating          121856.0      2.029445       0.499414   \n",
       "Application Process Day     121856.0      3.156554       1.741575   \n",
       "Application Process Hour    121856.0     12.061203       3.231027   \n",
       "Score Source 1              121856.0      0.503158       0.139327   \n",
       "Score Source 2              121856.0      0.520788       0.722837   \n",
       "Social Circle Default       121856.0      0.102828       0.077070   \n",
       "Phone Change                121856.0    955.878734     816.200383   \n",
       "Credit Bureau               121856.0      1.755506       1.744053   \n",
       "Default                     121856.0      0.080792       0.272517   \n",
       "\n",
       "                                    min           25%           50%  \\\n",
       "Client Income               2565.000000  11250.000000  14400.000000   \n",
       "Car Owned                      0.000000      0.000000      0.000000   \n",
       "Bike Owned                     0.000000      0.000000      0.000000   \n",
       "Active Loan                    0.000000      0.000000      0.000000   \n",
       "House Own                      0.000000      0.000000      1.000000   \n",
       "Child Count                    0.000000      0.000000      0.000000   \n",
       "Credit Amount               4500.000000  27450.000000  51750.000000   \n",
       "Loan Annuity                 217.350000   1687.500000   2499.750000   \n",
       "Population Region Relative     0.000533      0.010032      0.018850   \n",
       "Age Days                    7676.000000  12512.000000  15734.000000   \n",
       "Employed Days                  0.000000    962.000000   2212.000000   \n",
       "Registration Days              0.000000   2102.000000   4493.000000   \n",
       "ID Days                        0.000000   1789.000000   3242.000000   \n",
       "Mobile Tag                     0.000000      1.000000      1.000000   \n",
       "Homephone Tag                  0.000000      0.000000      0.000000   \n",
       "Workphone Working              0.000000      0.000000      0.000000   \n",
       "Client Family Members          1.000000      2.000000      2.000000   \n",
       "Cleint City Rating             1.000000      2.000000      2.000000   \n",
       "Application Process Day        0.000000      2.000000      3.000000   \n",
       "Application Process Hour       0.000000     10.000000     12.000000   \n",
       "Score Source 1                 0.014568      0.504657      0.504657   \n",
       "Score Source 2                 0.000005      0.401996      0.564978   \n",
       "Social Circle Default          0.000000      0.088700      0.088700   \n",
       "Phone Change                   0.000000    287.000000    755.000000   \n",
       "Credit Bureau                  0.000000      1.000000      1.000000   \n",
       "Default                        0.000000      0.000000      0.000000   \n",
       "\n",
       "                                     75%           max  \n",
       "Client Income               20250.000000  1.800009e+06  \n",
       "Car Owned                       1.000000  1.000000e+00  \n",
       "Bike Owned                      1.000000  1.000000e+00  \n",
       "Active Loan                     1.000000  1.000000e+00  \n",
       "House Own                       1.000000  1.000000e+00  \n",
       "Child Count                     1.000000  1.900000e+01  \n",
       "Credit Amount               80865.000000  4.050000e+05  \n",
       "Loan Annuity                 3407.962500  2.250000e+04  \n",
       "Population Region Relative      0.026392  1.000000e+02  \n",
       "Age Days                    19544.000000  2.520100e+04  \n",
       "Employed Days                5385.000000  3.652430e+05  \n",
       "Registration Days            7350.000000  2.373800e+04  \n",
       "ID Days                      4263.000000  7.197000e+03  \n",
       "Mobile Tag                      1.000000  1.000000e+00  \n",
       "Homephone Tag                   0.000000  1.000000e+00  \n",
       "Workphone Working               1.000000  1.000000e+00  \n",
       "Client Family Members           3.000000  1.600000e+01  \n",
       "Cleint City Rating              2.000000  3.000000e+00  \n",
       "Application Process Day         5.000000  6.000000e+00  \n",
       "Application Process Hour       14.000000  2.300000e+01  \n",
       "Score Source 1                  0.504657  9.457413e-01  \n",
       "Score Source 2                  0.659828  1.000000e+02  \n",
       "Social Circle Default           0.088700  1.000000e+00  \n",
       "Phone Change                 1550.000000  4.185000e+03  \n",
       "Credit Bureau                   3.000000  2.200000e+01  \n",
       "Default                         0.000000  1.000000e+00  "
      ]
     },
     "execution_count": 28,
     "metadata": {},
     "output_type": "execute_result"
    }
   ],
   "source": [
    "data.describe().T"
   ]
  },
  {
   "cell_type": "code",
   "execution_count": 29,
   "id": "4274d73d",
   "metadata": {},
   "outputs": [],
   "source": [
    "nn_columns = data.select_dtypes(include = ['object']).columns"
   ]
  },
  {
   "cell_type": "code",
   "execution_count": 30,
   "id": "d0616496",
   "metadata": {},
   "outputs": [
    {
     "data": {
      "image/png": "[encoded data removed]",
      "text/plain": [
       "<Figure size 1440x2160 with 9 Axes>"
      ]
     },
     "metadata": {
      "needs_background": "light"
     },
     "output_type": "display_data"
    }
   ],
   "source": [
    "plt.figure(figsize = (20, 30))\n",
    "\n",
    "for col, i in zip(nn_columns, range(len(nn_columns))):\n",
    "    plt.subplot(3, 3, i+1)\n",
    "    sns.barplot(x = data[col].value_counts().index, y = data[col].value_counts())\n",
    "    plt.xticks(rotation = 45)"
   ]
  },
  {
   "cell_type": "code",
   "execution_count": 31,
   "id": "15cfd6ed",
   "metadata": {},
   "outputs": [],
   "source": [
    "columns = ['Accompany Client', 'Client Gender']\n",
    "data[columns] = data[columns].replace(['##', 'XNA'], np.nan)"
   ]
  },
  {
   "cell_type": "code",
   "execution_count": 32,
   "id": "9da6f8e9",
   "metadata": {},
   "outputs": [],
   "source": [
    "columns = ['Accompany Client', 'Loan Contract Type', 'Client Housing Type']\n",
    "\n",
    "imputer_mode = SimpleImputer(strategy = 'most_frequent')\n",
    "data[columns] = imputer_mode.fit_transform(data[columns])"
   ]
  },
  {
   "cell_type": "code",
   "execution_count": 33,
   "id": "742104cb",
   "metadata": {},
   "outputs": [],
   "source": [
    "columns = ['Client Income Type', 'Client Education', 'Client Marital Status']\n",
    "\n",
    "imputer_missing = SimpleImputer(strategy = 'constant', fill_value = 'missing')\n",
    "data[columns] = imputer_missing.fit_transform(data[columns])"
   ]
  },
  {
   "cell_type": "code",
   "execution_count": 34,
   "id": "bc0cae74",
   "metadata": {},
   "outputs": [
    {
     "data": {
      "text/plain": [
       "Accompany Client                [Alone, Relative, Others, Kids, Partner, Group]\n",
       "Client Income Type            [Commercial, Service, Retired, Govt Job, missi...\n",
       "Client Education              [Secondary, Graduation, Graduation dropout, mi...\n",
       "Client Marital Status                                     [M, W, S, missing, D]\n",
       "Client Gender                                               [Male, Female, nan]\n",
       "Loan Contract Type                                                     [CL, RL]\n",
       "Client Housing Type           [Home, Family, Office, Municipal, Rental, Shared]\n",
       "Client Permanent Match Tag                                            [Yes, No]\n",
       "Client Contact Work Tag                                               [Yes, No]\n",
       "dtype: object"
      ]
     },
     "execution_count": 34,
     "metadata": {},
     "output_type": "execute_result"
    }
   ],
   "source": [
    "pd.Series({col: data[col].unique() for col in nn_columns})"
   ]
  },
  {
   "cell_type": "markdown",
   "id": "96038905",
   "metadata": {},
   "source": [
    "**One Hot Encoding**"
   ]
  },
  {
   "cell_type": "code",
   "execution_count": 35,
   "id": "32aad4cf",
   "metadata": {},
   "outputs": [],
   "source": [
    "data = pd.get_dummies(data, columns = ['Accompany Client', 'Client Income Type', 'Client Education', \n",
    "                                       'Client Marital Status', 'Client Housing Type'])"
   ]
  },
  {
   "cell_type": "markdown",
   "id": "17d111d0",
   "metadata": {},
   "source": [
    "**Label Encoding**"
   ]
  },
  {
   "cell_type": "code",
   "execution_count": 36,
   "id": "401bd294",
   "metadata": {},
   "outputs": [],
   "source": [
    "label_encode_cols = ['Loan Contract Type', 'Client Permanent Match Tag', 'Client Contact Work Tag']\n",
    "\n",
    "le = LabelEncoder()\n",
    "\n",
    "for col in label_encode_cols:\n",
    "    data[col] = le.fit_transform(np.array(data[col]))"
   ]
  },
  {
   "cell_type": "code",
   "execution_count": 37,
   "id": "882adf49",
   "metadata": {},
   "outputs": [],
   "source": [
    "data.replace({'Female': 0, 'Male': 1}, inplace = True)"
   ]
  },
  {
   "cell_type": "code",
   "execution_count": 38,
   "id": "77328c33",
   "metadata": {},
   "outputs": [],
   "source": [
    "test = data[data['Client Gender'].isna()]\n",
    "train = data.dropna()\n",
    "\n",
    "X_train = train.drop(['Client Gender'], axis=1)\n",
    "y_train = train['Client Gender']\n",
    "X_test = test.drop(['Client Gender'], axis=1)\n",
    "\n",
    "logistic = LogisticRegression(random_state = 42)\n",
    "logistic.fit(X_train, y_train)\n",
    "\n",
    "y_pred = logistic.predict(X_test)\n",
    "\n",
    "data.loc[data['Client Gender'].isnull(), 'Client Gender'] = y_pred"
   ]
  },
  {
   "cell_type": "code",
   "execution_count": 39,
   "id": "4a64e792",
   "metadata": {},
   "outputs": [
    {
     "data": {
      "text/plain": [
       "0"
      ]
     },
     "execution_count": 39,
     "metadata": {},
     "output_type": "execute_result"
    }
   ],
   "source": [
    "data.isnull().sum().sum()"
   ]
  },
  {
   "cell_type": "code",
   "execution_count": 40,
   "id": "a783312f",
   "metadata": {},
   "outputs": [
    {
     "data": {
      "text/plain": [
       "(121856, 62)"
      ]
     },
     "execution_count": 40,
     "metadata": {},
     "output_type": "execute_result"
    }
   ],
   "source": [
    "data.shape"
   ]
  },
  {
   "cell_type": "markdown",
   "id": "d23240b6",
   "metadata": {},
   "source": [
    "## Handling the Outliers"
   ]
  },
  {
   "cell_type": "code",
   "execution_count": 41,
   "id": "4c4bb714",
   "metadata": {},
   "outputs": [],
   "source": [
    "columns = ['Client Income', 'Credit Amount', 'Loan Annuity']\n",
    "\n",
    "for col in columns:\n",
    "    percentile25 = data[col].quantile(0.25)\n",
    "    percentile75 = data[col].quantile(0.75)\n",
    "    \n",
    "    iqr = percentile75 - percentile25\n",
    "\n",
    "    upper_limit = percentile75 + 1.5*iqr\n",
    "    lower_limit = percentile25 - 1.5*iqr\n",
    "    \n",
    "    data[col] = np.where(data[col] > upper_limit, \n",
    "                         upper_limit, \n",
    "                         np.where(data[col] < lower_limit, \n",
    "                                  lower_limit, \n",
    "                                  data[col]))"
   ]
  },
  {
   "cell_type": "code",
   "execution_count": 42,
   "id": "45d83635",
   "metadata": {},
   "outputs": [
    {
     "data": {
      "text/plain": [
       "0    112011\n",
       "1      9845\n",
       "Name: Default, dtype: int64"
      ]
     },
     "execution_count": 42,
     "metadata": {},
     "output_type": "execute_result"
    }
   ],
   "source": [
    "data[\"Default\"].value_counts()"
   ]
  },
  {
   "cell_type": "code",
   "execution_count": 43,
   "id": "459ae321",
   "metadata": {},
   "outputs": [
    {
     "data": {
      "image/png": "[encoded data removed]",
      "text/plain": [
       "<Figure size 432x288 with 1 Axes>"
      ]
     },
     "metadata": {},
     "output_type": "display_data"
    }
   ],
   "source": [
    "data[\"Default\"].value_counts().plot.pie(explode = [0, 0.1], autopct = '%1.1f%%')\n",
    "plt.show()"
   ]
  },
  {
   "cell_type": "markdown",
   "id": "47c994d1",
   "metadata": {},
   "source": [
    "From the above pie chart, we can see that we have only about 8.1% loan defaulters in the dataset. So, this is an **imbalanced** dataset."
   ]
  },
  {
   "cell_type": "markdown",
   "id": "b7c46503",
   "metadata": {},
   "source": [
    "**Creating X and y**"
   ]
  },
  {
   "cell_type": "code",
   "execution_count": 44,
   "id": "888ccdc7",
   "metadata": {},
   "outputs": [],
   "source": [
    "X = data.drop(columns = 'Default')\n",
    "y = data['Default']"
   ]
  },
  {
   "cell_type": "markdown",
   "id": "4d846e48",
   "metadata": {},
   "source": [
    "## Train Test Split"
   ]
  },
  {
   "cell_type": "markdown",
   "id": "af1028bd",
   "metadata": {},
   "source": [
    "We will use 30% of the data for testing and 70% for training."
   ]
  },
  {
   "cell_type": "code",
   "execution_count": 45,
   "id": "24e4a8e4",
   "metadata": {},
   "outputs": [],
   "source": [
    "strat_shuf_split = StratifiedShuffleSplit(n_splits = 1, test_size = 0.3, random_state = 42)\n",
    "train_idx, test_idx = next(strat_shuf_split.split(X, y))"
   ]
  },
  {
   "cell_type": "code",
   "execution_count": 46,
   "id": "cb698a5b",
   "metadata": {},
   "outputs": [],
   "source": [
    "X_train = X.iloc[train_idx]\n",
    "y_train = y[train_idx]\n",
    "\n",
    "X_test = X.iloc[test_idx]\n",
    "y_test = y[test_idx]"
   ]
  },
  {
   "cell_type": "markdown",
   "id": "ed4d6029",
   "metadata": {},
   "source": [
    "Training dataset will be used to train and tune models, and testing dataset will be used to evaluate the models."
   ]
  },
  {
   "cell_type": "code",
   "execution_count": 47,
   "id": "ac947b31",
   "metadata": {},
   "outputs": [
    {
     "name": "stdout",
     "output_type": "stream",
     "text": [
      "Number of training samples: 85299\n",
      "Number of test samples: 36557\n"
     ]
    }
   ],
   "source": [
    "print(f\"Number of training samples: {X_train.shape[0]}\")\n",
    "print(f\"Number of test samples: {X_test.shape[0]}\")"
   ]
  },
  {
   "cell_type": "code",
   "execution_count": 48,
   "id": "839ca01b",
   "metadata": {},
   "outputs": [
    {
     "data": {
      "text/plain": [
       "0    0.919214\n",
       "1    0.080786\n",
       "Name: Default, dtype: float64"
      ]
     },
     "execution_count": 48,
     "metadata": {},
     "output_type": "execute_result"
    }
   ],
   "source": [
    "y_train.value_counts(normalize = True)"
   ]
  },
  {
   "cell_type": "code",
   "execution_count": 49,
   "id": "51aa1321",
   "metadata": {},
   "outputs": [
    {
     "data": {
      "text/plain": [
       "0    0.919195\n",
       "1    0.080805\n",
       "Name: Default, dtype: float64"
      ]
     },
     "execution_count": 49,
     "metadata": {},
     "output_type": "execute_result"
    }
   ],
   "source": [
    "y_test.value_counts(normalize = True)"
   ]
  },
  {
   "cell_type": "markdown",
   "id": "838b77e2",
   "metadata": {},
   "source": [
    "## Feature Scaling"
   ]
  },
  {
   "cell_type": "code",
   "execution_count": 50,
   "id": "05ea69f4",
   "metadata": {},
   "outputs": [],
   "source": [
    "scaler = MinMaxScaler()\n",
    "\n",
    "X_train = scaler.fit_transform(X_train)\n",
    "X_test = scaler.transform(X_test)"
   ]
  },
  {
   "cell_type": "markdown",
   "id": "be083a01",
   "metadata": {},
   "source": [
    "We used the `MinMaxScaler` for scaling."
   ]
  },
  {
   "cell_type": "code",
   "execution_count": 51,
   "id": "d89064fb",
   "metadata": {},
   "outputs": [
    {
     "name": "stdout",
     "output_type": "stream",
     "text": [
      "The range of feature inputs are within 0.00 to 1.00\n"
     ]
    }
   ],
   "source": [
    "print(f\"The range of feature inputs are within {X_train.min():0.2f} to {X_train.max():0.2f}\")"
   ]
  },
  {
   "cell_type": "markdown",
   "id": "9798460b",
   "metadata": {},
   "source": [
    "## Logistic Regression"
   ]
  },
  {
   "cell_type": "code",
   "execution_count": 52,
   "id": "a3eb0d82",
   "metadata": {},
   "outputs": [],
   "source": [
    "model = LogisticRegression(random_state = 42, max_iter = 1000)\n",
    "model.fit(X_train, y_train)\n",
    "\n",
    "preds = model.predict(X_test)"
   ]
  },
  {
   "cell_type": "code",
   "execution_count": 53,
   "id": "f7703e3c",
   "metadata": {},
   "outputs": [],
   "source": [
    "def evaluate_metrics(yt, yp):\n",
    "    precision, recall, fscore, _ = score(yt, yp, average = 'binary')\n",
    "    print(classification_report(yt, yp))\n",
    "    print('Accuracy:  ', round(accuracy_score(yt, yp), 2))\n",
    "    print('Precision: ', round(precision, 2))\n",
    "    print('Recall:    ', round(recall, 2))\n",
    "    print('F1 Score:  ', round(fscore, 2))"
   ]
  },
  {
   "cell_type": "code",
   "execution_count": 54,
   "id": "2442af2e",
   "metadata": {},
   "outputs": [
    {
     "name": "stdout",
     "output_type": "stream",
     "text": [
      "              precision    recall  f1-score   support\n",
      "\n",
      "           0       0.92      1.00      0.96     33603\n",
      "           1       0.00      0.00      0.00      2954\n",
      "\n",
      "    accuracy                           0.92     36557\n",
      "   macro avg       0.46      0.50      0.48     36557\n",
      "weighted avg       0.84      0.92      0.88     36557\n",
      "\n",
      "Accuracy:   0.92\n",
      "Precision:  0.0\n",
      "Recall:     0.0\n",
      "F1 Score:   0.0\n"
     ]
    }
   ],
   "source": [
    "evaluate_metrics(y_test, preds)"
   ]
  },
  {
   "cell_type": "markdown",
   "id": "aa5985e9",
   "metadata": {},
   "source": [
    "The function below will plot the confusion matrix for the models."
   ]
  },
  {
   "cell_type": "code",
   "execution_count": 55,
   "id": "8b655129",
   "metadata": {},
   "outputs": [],
   "source": [
    "def error_matrix(yt, yp, mod_name):\n",
    "    \n",
    "    plt.figure(figsize = (8, 4))\n",
    "    \n",
    "    cm = confusion_matrix(yt, yp)\n",
    "    ax = sns.heatmap(cm, annot = True, fmt = 'd', annot_kws = {\"size\": 30})\n",
    "\n",
    "    ax.set_title(mod_name + '\\n', fontsize = 20)\n",
    "\n",
    "    ax.set_xlabel('Prediction', fontsize = 15)\n",
    "    ax.set_ylabel('Actual', fontsize = 15)\n",
    "\n",
    "    plt.show()"
   ]
  },
  {
   "cell_type": "code",
   "execution_count": 43,
   "id": "c456dd0e",
   "metadata": {},
   "outputs": [
    {
     "data": {
      "image/png": "[encoded data removed]",
      "text/plain": [
       "<Figure size 576x288 with 2 Axes>"
      ]
     },
     "metadata": {
      "needs_background": "light"
     },
     "output_type": "display_data"
    }
   ],
   "source": [
    "error_matrix(y_test, preds, 'Logistic Regression')"
   ]
  },
  {
   "cell_type": "markdown",
   "id": "03d9430e",
   "metadata": {},
   "source": [
    "```\n",
    "sns.set_context('talk')\n",
    "\n",
    "fig, axList = plt.subplots(ncols = 2)\n",
    "fig.set_size_inches(16, 8)\n",
    "\n",
    "y_prob = lr_model.predict_proba(X_test)\n",
    "\n",
    "ax = axList[0]\n",
    "\n",
    "fpr, tpr, thresholds = roc_curve(y_test, y_prob[:,1])\n",
    "ax.plot(fpr, tpr, linewidth = 5)\n",
    "\n",
    "ax.plot([0, 1], [0, 1], ls='--', color='black', lw=.3)\n",
    "ax.set(xlabel='False Positive Rate',\n",
    "       ylabel='True Positive Rate',\n",
    "       xlim=[-.01, 1.01], ylim=[-.01, 1.01],\n",
    "       title='ROC curve')\n",
    "ax.grid(True)\n",
    "\n",
    "ax = axList[1]\n",
    "\n",
    "precision, recall, _ = precision_recall_curve(y_test, y_prob[:,1])\n",
    "ax.plot(recall, precision, linewidth=5)\n",
    "ax.set(xlabel='Recall', ylabel='Precision',\n",
    "       xlim=[-.01, 1.01], ylim=[-.01, 1.01],\n",
    "       title='Precision-Recall curve')\n",
    "ax.grid(True)\n",
    "\n",
    "plt.tight_layout()\n",
    "```"
   ]
  },
  {
   "cell_type": "code",
   "execution_count": 44,
   "id": "e56aca16",
   "metadata": {},
   "outputs": [
    {
     "name": "stdout",
     "output_type": "stream",
     "text": [
      "              precision    recall  f1-score   support\n",
      "\n",
      "           0       0.95      0.62      0.75     33603\n",
      "           1       0.13      0.62      0.21      2954\n",
      "\n",
      "    accuracy                           0.62     36557\n",
      "   macro avg       0.54      0.62      0.48     36557\n",
      "weighted avg       0.88      0.62      0.71     36557\n",
      "\n",
      "Accuracy:   0.62\n",
      "Precision:  0.13\n",
      "Recall:     0.62\n",
      "F1 Score:   0.21\n"
     ]
    },
    {
     "data": {
      "image/png": "[encoded data removed]",
      "text/plain": [
       "<Figure size 576x288 with 2 Axes>"
      ]
     },
     "metadata": {
      "needs_background": "light"
     },
     "output_type": "display_data"
    }
   ],
   "source": [
    "model = LogisticRegression(random_state = 42, class_weight = 'balanced')\n",
    "model.fit(X_train, y_train)\n",
    "\n",
    "preds = model.predict(X_test)\n",
    "\n",
    "evaluate_metrics(y_test, preds)\n",
    "\n",
    "error_matrix(y_test, preds, 'Logistic Regression')"
   ]
  },
  {
   "cell_type": "markdown",
   "id": "34075ac7",
   "metadata": {},
   "source": [
    "**SMOTE (Synthetic Minority Oversampling Technique)**"
   ]
  },
  {
   "cell_type": "code",
   "execution_count": 56,
   "id": "8a85cac9",
   "metadata": {},
   "outputs": [],
   "source": [
    "smote_sampler = SMOTE(random_state = 42)\n",
    "X_smo, y_smo = smote_sampler.fit_resample(X_train, y_train)"
   ]
  },
  {
   "cell_type": "code",
   "execution_count": 57,
   "id": "44d3b0d5",
   "metadata": {},
   "outputs": [
    {
     "data": {
      "image/png": "[encoded data removed]",
      "text/plain": [
       "<Figure size 432x288 with 1 Axes>"
      ]
     },
     "metadata": {
      "needs_background": "light"
     },
     "output_type": "display_data"
    }
   ],
   "source": [
    "y_smo.value_counts().plot.bar(color = ['blue', 'green'])\n",
    "plt.show()"
   ]
  },
  {
   "cell_type": "code",
   "execution_count": 58,
   "id": "dbc9836f",
   "metadata": {},
   "outputs": [],
   "source": [
    "over_sampler = RandomOverSampler(random_state = 42)\n",
    "X_over, y_over = over_sampler.fit_resample(X_train, y_train)"
   ]
  },
  {
   "cell_type": "code",
   "execution_count": 48,
   "id": "f57a3391",
   "metadata": {},
   "outputs": [],
   "source": [
    "under_sampler = RandomUnderSampler(random_state = 42)\n",
    "X_under, y_under = under_sampler.fit_resample(X_train, y_train)"
   ]
  },
  {
   "cell_type": "code",
   "execution_count": 49,
   "id": "2f798a0e",
   "metadata": {},
   "outputs": [],
   "source": [
    "model = LogisticRegression(random_state = 42)"
   ]
  },
  {
   "cell_type": "code",
   "execution_count": 50,
   "id": "738ed7a1",
   "metadata": {},
   "outputs": [
    {
     "name": "stdout",
     "output_type": "stream",
     "text": [
      "              precision    recall  f1-score   support\n",
      "\n",
      "           0       0.95      0.62      0.75     33603\n",
      "           1       0.12      0.61      0.21      2954\n",
      "\n",
      "    accuracy                           0.62     36557\n",
      "   macro avg       0.54      0.62      0.48     36557\n",
      "weighted avg       0.88      0.62      0.71     36557\n",
      "\n",
      "Accuracy:   0.62\n",
      "Precision:  0.12\n",
      "Recall:     0.61\n",
      "F1 Score:   0.21\n"
     ]
    },
    {
     "data": {
      "image/png": "[encoded data removed]",
      "text/plain": [
       "<Figure size 576x288 with 2 Axes>"
      ]
     },
     "metadata": {
      "needs_background": "light"
     },
     "output_type": "display_data"
    }
   ],
   "source": [
    "model.fit(X_smo, y_smo)\n",
    "\n",
    "preds = model.predict(X_test)\n",
    "\n",
    "evaluate_metrics(y_test, preds)\n",
    "\n",
    "error_matrix(y_test, preds, 'Logistic Regression')"
   ]
  },
  {
   "cell_type": "code",
   "execution_count": 51,
   "id": "6f8bac8f",
   "metadata": {},
   "outputs": [
    {
     "name": "stdout",
     "output_type": "stream",
     "text": [
      "              precision    recall  f1-score   support\n",
      "\n",
      "           0       0.95      0.51      0.66     33603\n",
      "           1       0.11      0.72      0.20      2954\n",
      "\n",
      "    accuracy                           0.53     36557\n",
      "   macro avg       0.53      0.61      0.43     36557\n",
      "weighted avg       0.89      0.53      0.63     36557\n",
      "\n",
      "Accuracy:   0.53\n",
      "Precision:  0.11\n",
      "Recall:     0.72\n",
      "F1 Score:   0.2\n"
     ]
    },
    {
     "data": {
      "image/png": "[encoded data removed]",
      "text/plain": [
       "<Figure size 576x288 with 2 Axes>"
      ]
     },
     "metadata": {
      "needs_background": "light"
     },
     "output_type": "display_data"
    }
   ],
   "source": [
    "THRESHOLD = 0.45\n",
    "preds = np.where(model.predict_proba(X_test)[:, 1] > THRESHOLD, 1, 0)\n",
    "\n",
    "evaluate_metrics(y_test, preds)\n",
    "\n",
    "error_matrix(y_test, preds, 'Logistic Regression')"
   ]
  },
  {
   "cell_type": "code",
   "execution_count": 52,
   "id": "6b84fd9e",
   "metadata": {},
   "outputs": [
    {
     "name": "stdout",
     "output_type": "stream",
     "text": [
      "              precision    recall  f1-score   support\n",
      "\n",
      "           0       0.95      0.62      0.75     33603\n",
      "           1       0.13      0.62      0.21      2954\n",
      "\n",
      "    accuracy                           0.62     36557\n",
      "   macro avg       0.54      0.62      0.48     36557\n",
      "weighted avg       0.88      0.62      0.70     36557\n",
      "\n",
      "Accuracy:   0.62\n",
      "Precision:  0.13\n",
      "Recall:     0.62\n",
      "F1 Score:   0.21\n"
     ]
    }
   ],
   "source": [
    "model.fit(X_under, y_under)\n",
    "\n",
    "preds = model.predict(X_test)\n",
    "\n",
    "evaluate_metrics(y_test, preds)"
   ]
  },
  {
   "cell_type": "code",
   "execution_count": 53,
   "id": "80e54f44",
   "metadata": {},
   "outputs": [
    {
     "name": "stdout",
     "output_type": "stream",
     "text": [
      "              precision    recall  f1-score   support\n",
      "\n",
      "           0       0.95      0.62      0.75     33603\n",
      "           1       0.13      0.63      0.21      2954\n",
      "\n",
      "    accuracy                           0.62     36557\n",
      "   macro avg       0.54      0.62      0.48     36557\n",
      "weighted avg       0.88      0.62      0.71     36557\n",
      "\n",
      "Accuracy:   0.62\n",
      "Precision:  0.13\n",
      "Recall:     0.63\n",
      "F1 Score:   0.21\n"
     ]
    }
   ],
   "source": [
    "model.fit(X_over, y_over)\n",
    "\n",
    "preds = model.predict(X_test)\n",
    "\n",
    "evaluate_metrics(y_test, preds)"
   ]
  },
  {
   "cell_type": "code",
   "execution_count": 54,
   "id": "772d92d0",
   "metadata": {},
   "outputs": [
    {
     "name": "stdout",
     "output_type": "stream",
     "text": [
      "              precision    recall  f1-score   support\n",
      "\n",
      "           0       0.95      0.61      0.74     33603\n",
      "           1       0.12      0.62      0.21      2954\n",
      "\n",
      "    accuracy                           0.61     36557\n",
      "   macro avg       0.54      0.62      0.47     36557\n",
      "weighted avg       0.88      0.61      0.70     36557\n",
      "\n",
      "Accuracy:   0.61\n",
      "Precision:  0.12\n",
      "Recall:     0.62\n",
      "F1 Score:   0.21\n"
     ]
    }
   ],
   "source": [
    "model = LogisticRegression(random_state = 42, class_weight = {0: 0.08, 1: 0.92})\n",
    "model.fit(X_train, y_train)\n",
    "\n",
    "preds = model.predict(X_test)\n",
    "\n",
    "evaluate_metrics(y_test, preds)"
   ]
  },
  {
   "cell_type": "markdown",
   "id": "ea28d18c",
   "metadata": {},
   "source": [
    "## Random Forest"
   ]
  },
  {
   "cell_type": "markdown",
   "id": "29d3026d",
   "metadata": {},
   "source": [
    "```\n",
    "param_grid = {'n_estimators': [15, 20, 30, 40, 50, 100, 150, 200, 300, 400],\n",
    "              'max_depth' : [2, 3, 4, 5, 6, 7, 8, 9, 10],\n",
    "              'min_samples_split' : [10, 11, 12, 13, 14, 15]}\n",
    "\n",
    "grid = GridSearchCV(RandomForestClassifier(random_state = 42), \n",
    "                    param_grid = param_grid, \n",
    "                    scoring = 'f1',\n",
    "                    n_jobs = -1)\n",
    "\n",
    "grid.fit(X_smo, y_smo)\n",
    "\n",
    "grid.best_params_\n",
    "```"
   ]
  },
  {
   "cell_type": "code",
   "execution_count": 66,
   "id": "2971a2db",
   "metadata": {},
   "outputs": [],
   "source": [
    "def RFC(n_estimators_list, threshold):\n",
    "    f1_list = list()\n",
    "\n",
    "    for n_estimators in n_estimators_list:\n",
    "    \n",
    "        model = RandomForestClassifier(n_estimators = n_estimators, random_state = 42, n_jobs = -1)\n",
    "    \n",
    "        print(f'Fitting model with {n_estimators} trees')\n",
    "        model.fit(X_smo, y_smo)\n",
    "    \n",
    "        preds = np.where(model.predict_proba(X_test)[:, 1] > threshold, 1, 0)\n",
    "    \n",
    "        f1 = f1_score(y_test, preds)\n",
    "        f1_list.append(pd.Series({'Number of Trees': n_estimators, 'F1 Score': f1}))\n",
    "\n",
    "    f1_df = pd.concat(f1_list, axis = 1).T.set_index('Number of Trees')\n",
    "    \n",
    "    ax = f1_df.plot(marker = 'o', figsize = (10, 5))\n",
    "    ax.set(ylabel = 'F1 Score')\n",
    "    plt.show()\n",
    "    \n",
    "    return f1_df"
   ]
  },
  {
   "cell_type": "code",
   "execution_count": 64,
   "id": "71a63ccf",
   "metadata": {},
   "outputs": [],
   "source": [
    "n_estimators_list = [15, 20, 30, 40, 50, 100, 150, 200, 300, 400]"
   ]
  },
  {
   "cell_type": "code",
   "execution_count": 65,
   "id": "9b6392a2",
   "metadata": {},
   "outputs": [
    {
     "name": "stdout",
     "output_type": "stream",
     "text": [
      "Fitting model with 15 trees\n",
      "Fitting model with 20 trees\n",
      "Fitting model with 30 trees\n",
      "Fitting model with 40 trees\n",
      "Fitting model with 50 trees\n",
      "Fitting model with 100 trees\n",
      "Fitting model with 150 trees\n",
      "Fitting model with 200 trees\n",
      "Fitting model with 300 trees\n",
      "Fitting model with 400 trees\n"
     ]
    },
    {
     "data": {
      "image/png": "[encoded data removed]",
      "text/plain": [
       "<Figure size 720x360 with 1 Axes>"
      ]
     },
     "metadata": {
      "needs_background": "light"
     },
     "output_type": "display_data"
    },
    {
     "data": {
      "text/html": [
       "<div>\n",
       "<style scoped>\n",
       "    .dataframe tbody tr th:only-of-type {\n",
       "        vertical-align: middle;\n",
       "    }\n",
       "\n",
       "    .dataframe tbody tr th {\n",
       "        vertical-align: top;\n",
       "    }\n",
       "\n",
       "    .dataframe thead th {\n",
       "        text-align: right;\n",
       "    }\n",
       "</style>\n",
       "<table border=\"1\" class=\"dataframe\">\n",
       "  <thead>\n",
       "    <tr style=\"text-align: right;\">\n",
       "      <th></th>\n",
       "      <th>F1 Score</th>\n",
       "    </tr>\n",
       "    <tr>\n",
       "      <th>Number of Trees</th>\n",
       "      <th></th>\n",
       "    </tr>\n",
       "  </thead>\n",
       "  <tbody>\n",
       "    <tr>\n",
       "      <th>15.0</th>\n",
       "      <td>0.241044</td>\n",
       "    </tr>\n",
       "    <tr>\n",
       "      <th>20.0</th>\n",
       "      <td>0.231169</td>\n",
       "    </tr>\n",
       "    <tr>\n",
       "      <th>30.0</th>\n",
       "      <td>0.230439</td>\n",
       "    </tr>\n",
       "    <tr>\n",
       "      <th>40.0</th>\n",
       "      <td>0.232358</td>\n",
       "    </tr>\n",
       "    <tr>\n",
       "      <th>50.0</th>\n",
       "      <td>0.229730</td>\n",
       "    </tr>\n",
       "    <tr>\n",
       "      <th>100.0</th>\n",
       "      <td>0.237167</td>\n",
       "    </tr>\n",
       "    <tr>\n",
       "      <th>150.0</th>\n",
       "      <td>0.235196</td>\n",
       "    </tr>\n",
       "    <tr>\n",
       "      <th>200.0</th>\n",
       "      <td>0.236173</td>\n",
       "    </tr>\n",
       "    <tr>\n",
       "      <th>300.0</th>\n",
       "      <td>0.237607</td>\n",
       "    </tr>\n",
       "    <tr>\n",
       "      <th>400.0</th>\n",
       "      <td>0.234214</td>\n",
       "    </tr>\n",
       "  </tbody>\n",
       "</table>\n",
       "</div>"
      ],
      "text/plain": [
       "                 F1 Score\n",
       "Number of Trees          \n",
       "15.0             0.241044\n",
       "20.0             0.231169\n",
       "30.0             0.230439\n",
       "40.0             0.232358\n",
       "50.0             0.229730\n",
       "100.0            0.237167\n",
       "150.0            0.235196\n",
       "200.0            0.236173\n",
       "300.0            0.237607\n",
       "400.0            0.234214"
      ]
     },
     "execution_count": 65,
     "metadata": {},
     "output_type": "execute_result"
    }
   ],
   "source": [
    "RFC(n_estimators_list, 0.5)"
   ]
  },
  {
   "cell_type": "code",
   "execution_count": 68,
   "id": "4872445d",
   "metadata": {},
   "outputs": [],
   "source": [
    "def RFC_model(n_estimators, threshold):\n",
    "    model = RandomForestClassifier(n_estimators  = n_estimators, random_state  = 42, n_jobs = -1)\n",
    "    model.fit(X_smo, y_smo)\n",
    "\n",
    "    preds = np.where(model.predict_proba(X_test)[:, 1] > threshold, 1, 0)\n",
    "    \n",
    "    evaluate_metrics(y_test, preds)\n",
    "    \n",
    "    error_matrix(y_test, preds, 'Random Forest Classifier')"
   ]
  },
  {
   "cell_type": "code",
   "execution_count": 69,
   "id": "067b8a42",
   "metadata": {},
   "outputs": [
    {
     "name": "stdout",
     "output_type": "stream",
     "text": [
      "              precision    recall  f1-score   support\n",
      "\n",
      "           0       0.93      0.98      0.95     33603\n",
      "           1       0.40      0.17      0.24      2954\n",
      "\n",
      "    accuracy                           0.91     36557\n",
      "   macro avg       0.67      0.57      0.60     36557\n",
      "weighted avg       0.89      0.91      0.90     36557\n",
      "\n",
      "Accuracy:   0.91\n",
      "Precision:  0.4\n",
      "Recall:     0.17\n",
      "F1 Score:   0.24\n"
     ]
    },
    {
     "data": {
      "image/png": "[encoded data removed]",
      "text/plain": [
       "<Figure size 576x288 with 2 Axes>"
      ]
     },
     "metadata": {
      "needs_background": "light"
     },
     "output_type": "display_data"
    }
   ],
   "source": [
    "RFC_model(15, 0.5)"
   ]
  },
  {
   "cell_type": "code",
   "execution_count": 70,
   "id": "093c016a",
   "metadata": {},
   "outputs": [
    {
     "name": "stdout",
     "output_type": "stream",
     "text": [
      "Fitting model with 15 trees\n",
      "Fitting model with 20 trees\n",
      "Fitting model with 30 trees\n",
      "Fitting model with 40 trees\n",
      "Fitting model with 50 trees\n",
      "Fitting model with 100 trees\n",
      "Fitting model with 150 trees\n",
      "Fitting model with 200 trees\n",
      "Fitting model with 300 trees\n",
      "Fitting model with 400 trees\n"
     ]
    },
    {
     "data": {
      "image/png": "[encoded data removed]",
      "text/plain": [
       "<Figure size 720x360 with 1 Axes>"
      ]
     },
     "metadata": {
      "needs_background": "light"
     },
     "output_type": "display_data"
    },
    {
     "data": {
      "text/html": [
       "<div>\n",
       "<style scoped>\n",
       "    .dataframe tbody tr th:only-of-type {\n",
       "        vertical-align: middle;\n",
       "    }\n",
       "\n",
       "    .dataframe tbody tr th {\n",
       "        vertical-align: top;\n",
       "    }\n",
       "\n",
       "    .dataframe thead th {\n",
       "        text-align: right;\n",
       "    }\n",
       "</style>\n",
       "<table border=\"1\" class=\"dataframe\">\n",
       "  <thead>\n",
       "    <tr style=\"text-align: right;\">\n",
       "      <th></th>\n",
       "      <th>F1 Score</th>\n",
       "    </tr>\n",
       "    <tr>\n",
       "      <th>Number of Trees</th>\n",
       "      <th></th>\n",
       "    </tr>\n",
       "  </thead>\n",
       "  <tbody>\n",
       "    <tr>\n",
       "      <th>15.0</th>\n",
       "      <td>0.255692</td>\n",
       "    </tr>\n",
       "    <tr>\n",
       "      <th>20.0</th>\n",
       "      <td>0.249127</td>\n",
       "    </tr>\n",
       "    <tr>\n",
       "      <th>30.0</th>\n",
       "      <td>0.259013</td>\n",
       "    </tr>\n",
       "    <tr>\n",
       "      <th>40.0</th>\n",
       "      <td>0.260870</td>\n",
       "    </tr>\n",
       "    <tr>\n",
       "      <th>50.0</th>\n",
       "      <td>0.263296</td>\n",
       "    </tr>\n",
       "    <tr>\n",
       "      <th>100.0</th>\n",
       "      <td>0.260105</td>\n",
       "    </tr>\n",
       "    <tr>\n",
       "      <th>150.0</th>\n",
       "      <td>0.261523</td>\n",
       "    </tr>\n",
       "    <tr>\n",
       "      <th>200.0</th>\n",
       "      <td>0.260406</td>\n",
       "    </tr>\n",
       "    <tr>\n",
       "      <th>300.0</th>\n",
       "      <td>0.258938</td>\n",
       "    </tr>\n",
       "    <tr>\n",
       "      <th>400.0</th>\n",
       "      <td>0.259221</td>\n",
       "    </tr>\n",
       "  </tbody>\n",
       "</table>\n",
       "</div>"
      ],
      "text/plain": [
       "                 F1 Score\n",
       "Number of Trees          \n",
       "15.0             0.255692\n",
       "20.0             0.249127\n",
       "30.0             0.259013\n",
       "40.0             0.260870\n",
       "50.0             0.263296\n",
       "100.0            0.260105\n",
       "150.0            0.261523\n",
       "200.0            0.260406\n",
       "300.0            0.258938\n",
       "400.0            0.259221"
      ]
     },
     "execution_count": 70,
     "metadata": {},
     "output_type": "execute_result"
    }
   ],
   "source": [
    "RFC(n_estimators_list, 0.45)"
   ]
  },
  {
   "cell_type": "code",
   "execution_count": 71,
   "id": "195609b9",
   "metadata": {},
   "outputs": [
    {
     "name": "stdout",
     "output_type": "stream",
     "text": [
      "              precision    recall  f1-score   support\n",
      "\n",
      "           0       0.93      0.98      0.96     33603\n",
      "           1       0.45      0.19      0.26      2954\n",
      "\n",
      "    accuracy                           0.92     36557\n",
      "   macro avg       0.69      0.58      0.61     36557\n",
      "weighted avg       0.89      0.92      0.90     36557\n",
      "\n",
      "Accuracy:   0.92\n",
      "Precision:  0.45\n",
      "Recall:     0.19\n",
      "F1 Score:   0.26\n"
     ]
    },
    {
     "data": {
      "image/png": "[encoded data removed]",
      "text/plain": [
       "<Figure size 576x288 with 2 Axes>"
      ]
     },
     "metadata": {
      "needs_background": "light"
     },
     "output_type": "display_data"
    }
   ],
   "source": [
    "RFC_model(50, 0.45)"
   ]
  },
  {
   "cell_type": "code",
   "execution_count": 72,
   "id": "5ae44b54",
   "metadata": {},
   "outputs": [
    {
     "name": "stdout",
     "output_type": "stream",
     "text": [
      "Fitting model with 15 trees\n",
      "Fitting model with 20 trees\n",
      "Fitting model with 30 trees\n",
      "Fitting model with 40 trees\n",
      "Fitting model with 50 trees\n",
      "Fitting model with 100 trees\n",
      "Fitting model with 150 trees\n",
      "Fitting model with 200 trees\n",
      "Fitting model with 300 trees\n",
      "Fitting model with 400 trees\n"
     ]
    },
    {
     "data": {
      "image/png": "[encoded data removed]",
      "text/plain": [
       "<Figure size 720x360 with 1 Axes>"
      ]
     },
     "metadata": {
      "needs_background": "light"
     },
     "output_type": "display_data"
    },
    {
     "data": {
      "text/html": [
       "<div>\n",
       "<style scoped>\n",
       "    .dataframe tbody tr th:only-of-type {\n",
       "        vertical-align: middle;\n",
       "    }\n",
       "\n",
       "    .dataframe tbody tr th {\n",
       "        vertical-align: top;\n",
       "    }\n",
       "\n",
       "    .dataframe thead th {\n",
       "        text-align: right;\n",
       "    }\n",
       "</style>\n",
       "<table border=\"1\" class=\"dataframe\">\n",
       "  <thead>\n",
       "    <tr style=\"text-align: right;\">\n",
       "      <th></th>\n",
       "      <th>F1 Score</th>\n",
       "    </tr>\n",
       "    <tr>\n",
       "      <th>Number of Trees</th>\n",
       "      <th></th>\n",
       "    </tr>\n",
       "  </thead>\n",
       "  <tbody>\n",
       "    <tr>\n",
       "      <th>15.0</th>\n",
       "      <td>0.255692</td>\n",
       "    </tr>\n",
       "    <tr>\n",
       "      <th>20.0</th>\n",
       "      <td>0.258819</td>\n",
       "    </tr>\n",
       "    <tr>\n",
       "      <th>30.0</th>\n",
       "      <td>0.269802</td>\n",
       "    </tr>\n",
       "    <tr>\n",
       "      <th>40.0</th>\n",
       "      <td>0.269851</td>\n",
       "    </tr>\n",
       "    <tr>\n",
       "      <th>50.0</th>\n",
       "      <td>0.273171</td>\n",
       "    </tr>\n",
       "    <tr>\n",
       "      <th>100.0</th>\n",
       "      <td>0.273744</td>\n",
       "    </tr>\n",
       "    <tr>\n",
       "      <th>150.0</th>\n",
       "      <td>0.281250</td>\n",
       "    </tr>\n",
       "    <tr>\n",
       "      <th>200.0</th>\n",
       "      <td>0.279683</td>\n",
       "    </tr>\n",
       "    <tr>\n",
       "      <th>300.0</th>\n",
       "      <td>0.277298</td>\n",
       "    </tr>\n",
       "    <tr>\n",
       "      <th>400.0</th>\n",
       "      <td>0.275229</td>\n",
       "    </tr>\n",
       "  </tbody>\n",
       "</table>\n",
       "</div>"
      ],
      "text/plain": [
       "                 F1 Score\n",
       "Number of Trees          \n",
       "15.0             0.255692\n",
       "20.0             0.258819\n",
       "30.0             0.269802\n",
       "40.0             0.269851\n",
       "50.0             0.273171\n",
       "100.0            0.273744\n",
       "150.0            0.281250\n",
       "200.0            0.279683\n",
       "300.0            0.277298\n",
       "400.0            0.275229"
      ]
     },
     "execution_count": 72,
     "metadata": {},
     "output_type": "execute_result"
    }
   ],
   "source": [
    "RFC(n_estimators_list, 0.4)"
   ]
  },
  {
   "cell_type": "code",
   "execution_count": 73,
   "id": "53c67386",
   "metadata": {},
   "outputs": [
    {
     "name": "stdout",
     "output_type": "stream",
     "text": [
      "              precision    recall  f1-score   support\n",
      "\n",
      "           0       0.93      0.97      0.95     33603\n",
      "           1       0.40      0.22      0.28      2954\n",
      "\n",
      "    accuracy                           0.91     36557\n",
      "   macro avg       0.67      0.59      0.62     36557\n",
      "weighted avg       0.89      0.91      0.90     36557\n",
      "\n",
      "Accuracy:   0.91\n",
      "Precision:  0.4\n",
      "Recall:     0.22\n",
      "F1 Score:   0.28\n"
     ]
    },
    {
     "data": {
      "image/png": "[encoded data removed]",
      "text/plain": [
       "<Figure size 576x288 with 2 Axes>"
      ]
     },
     "metadata": {
      "needs_background": "light"
     },
     "output_type": "display_data"
    }
   ],
   "source": [
    "RFC_model(150, 0.4)"
   ]
  },
  {
   "cell_type": "code",
   "execution_count": 62,
   "id": "d56bdfcd",
   "metadata": {},
   "outputs": [],
   "source": [
    "threshold_list = [0.5, 0.45, 0.4, 0.35, 0.33, 0.3]\n",
    "n_estimators_list = [15, 20, 30, 40, 50, 100, 150, 200, 300, 400]"
   ]
  },
  {
   "cell_type": "code",
   "execution_count": 61,
   "id": "7d326ec2",
   "metadata": {},
   "outputs": [
    {
     "data": {
      "text/html": [
       "<div>\n",
       "<style scoped>\n",
       "    .dataframe tbody tr th:only-of-type {\n",
       "        vertical-align: middle;\n",
       "    }\n",
       "\n",
       "    .dataframe tbody tr th {\n",
       "        vertical-align: top;\n",
       "    }\n",
       "\n",
       "    .dataframe thead th {\n",
       "        text-align: right;\n",
       "    }\n",
       "</style>\n",
       "<table border=\"1\" class=\"dataframe\">\n",
       "  <thead>\n",
       "    <tr style=\"text-align: right;\">\n",
       "      <th></th>\n",
       "      <th>Threshold</th>\n",
       "      <th>Number of Trees</th>\n",
       "      <th>F1 Score</th>\n",
       "    </tr>\n",
       "  </thead>\n",
       "  <tbody>\n",
       "    <tr>\n",
       "      <th>0</th>\n",
       "      <td>0.50</td>\n",
       "      <td>15</td>\n",
       "      <td>0.241044</td>\n",
       "    </tr>\n",
       "    <tr>\n",
       "      <th>1</th>\n",
       "      <td>0.45</td>\n",
       "      <td>50</td>\n",
       "      <td>0.263296</td>\n",
       "    </tr>\n",
       "    <tr>\n",
       "      <th>2</th>\n",
       "      <td>0.40</td>\n",
       "      <td>150</td>\n",
       "      <td>0.281250</td>\n",
       "    </tr>\n",
       "    <tr>\n",
       "      <th>3</th>\n",
       "      <td>0.35</td>\n",
       "      <td>150</td>\n",
       "      <td>0.289845</td>\n",
       "    </tr>\n",
       "    <tr>\n",
       "      <th>4</th>\n",
       "      <td>0.33</td>\n",
       "      <td>400</td>\n",
       "      <td>0.293863</td>\n",
       "    </tr>\n",
       "  </tbody>\n",
       "</table>\n",
       "</div>"
      ],
      "text/plain": [
       "   Threshold  Number of Trees  F1 Score\n",
       "0       0.50               15  0.241044\n",
       "1       0.45               50  0.263296\n",
       "2       0.40              150  0.281250\n",
       "3       0.35              150  0.289845\n",
       "4       0.33              400  0.293863"
      ]
     },
     "execution_count": 61,
     "metadata": {},
     "output_type": "execute_result"
    }
   ],
   "source": [
    "max_f1_list = list()\n",
    "n_trees_list = list()\n",
    "\n",
    "for threshold in threshold_list:\n",
    "    \n",
    "    f1_list = list()\n",
    "\n",
    "    for n_estimators in n_estimators_list:\n",
    "    \n",
    "        model = RandomForestClassifier(n_estimators = n_estimators, random_state = 42, n_jobs = -1)\n",
    "    \n",
    "        model.fit(X_smo, y_smo)\n",
    "    \n",
    "        preds = np.where(model.predict_proba(X_test)[:, 1] > threshold, 1, 0)\n",
    "    \n",
    "        f1 = f1_score(y_test, preds)\n",
    "        f1_list.append(f1)\n",
    "\n",
    "    max_f1 = max(f1_list)\n",
    "    ind = np.argmax(f1_list)\n",
    "    \n",
    "    max_f1_list.append(max_f1)\n",
    "    n_trees_list.append(n_estimators_list[ind])\n",
    "\n",
    "threshold_df = pd.DataFrame({'Threshold': threshold_list, \n",
    "                             'Number of Trees': n_trees_list, \n",
    "                             'F1 Score': max_f1_list}).set_index('Threshold')\n",
    "threshold_df"
   ]
  },
  {
   "cell_type": "markdown",
   "id": "48d44394",
   "metadata": {},
   "source": [
    "## Extra Trees Classifier"
   ]
  },
  {
   "cell_type": "code",
   "execution_count": 76,
   "id": "8d40c035",
   "metadata": {},
   "outputs": [],
   "source": [
    "def ETC(n_estimators_list, threshold):\n",
    "    f1_list = list()\n",
    "\n",
    "    for n_estimators in n_estimators_list:\n",
    "    \n",
    "        model = ExtraTreesClassifier(n_estimators = n_estimators, random_state = 42, n_jobs = -1)\n",
    "    \n",
    "        print(f'Fitting model with {n_estimators} trees')\n",
    "        model.fit(X_smo, y_smo)\n",
    "    \n",
    "        preds = np.where(model.predict_proba(X_test)[:, 1] > threshold, 1, 0)\n",
    "    \n",
    "        f1 = f1_score(y_test, preds)\n",
    "        f1_list.append(pd.Series({'Number of Trees': n_estimators, 'F1 Score': f1}))\n",
    "\n",
    "    f1_df = pd.concat(f1_list, axis = 1).T.set_index('Number of Trees')\n",
    "    \n",
    "    ax = f1_df.plot(marker = 'o', figsize = (10, 5))\n",
    "    ax.set(ylabel = 'F1 Score')\n",
    "    plt.show()\n",
    "    \n",
    "    return f1_df"
   ]
  },
  {
   "cell_type": "code",
   "execution_count": 77,
   "id": "5eb089a2",
   "metadata": {},
   "outputs": [
    {
     "name": "stdout",
     "output_type": "stream",
     "text": [
      "Fitting model with 15 trees\n",
      "Fitting model with 20 trees\n",
      "Fitting model with 30 trees\n",
      "Fitting model with 40 trees\n",
      "Fitting model with 50 trees\n",
      "Fitting model with 100 trees\n",
      "Fitting model with 150 trees\n",
      "Fitting model with 200 trees\n",
      "Fitting model with 300 trees\n",
      "Fitting model with 400 trees\n"
     ]
    },
    {
     "data": {
      "image/png": "[encoded data removed]",
      "text/plain": [
       "<Figure size 720x360 with 1 Axes>"
      ]
     },
     "metadata": {
      "needs_background": "light"
     },
     "output_type": "display_data"
    },
    {
     "data": {
      "text/html": [
       "<div>\n",
       "<style scoped>\n",
       "    .dataframe tbody tr th:only-of-type {\n",
       "        vertical-align: middle;\n",
       "    }\n",
       "\n",
       "    .dataframe tbody tr th {\n",
       "        vertical-align: top;\n",
       "    }\n",
       "\n",
       "    .dataframe thead th {\n",
       "        text-align: right;\n",
       "    }\n",
       "</style>\n",
       "<table border=\"1\" class=\"dataframe\">\n",
       "  <thead>\n",
       "    <tr style=\"text-align: right;\">\n",
       "      <th></th>\n",
       "      <th>F1 Score</th>\n",
       "    </tr>\n",
       "    <tr>\n",
       "      <th>Number of Trees</th>\n",
       "      <th></th>\n",
       "    </tr>\n",
       "  </thead>\n",
       "  <tbody>\n",
       "    <tr>\n",
       "      <th>15.0</th>\n",
       "      <td>0.273960</td>\n",
       "    </tr>\n",
       "    <tr>\n",
       "      <th>20.0</th>\n",
       "      <td>0.260435</td>\n",
       "    </tr>\n",
       "    <tr>\n",
       "      <th>30.0</th>\n",
       "      <td>0.262262</td>\n",
       "    </tr>\n",
       "    <tr>\n",
       "      <th>40.0</th>\n",
       "      <td>0.272424</td>\n",
       "    </tr>\n",
       "    <tr>\n",
       "      <th>50.0</th>\n",
       "      <td>0.273433</td>\n",
       "    </tr>\n",
       "    <tr>\n",
       "      <th>100.0</th>\n",
       "      <td>0.264498</td>\n",
       "    </tr>\n",
       "    <tr>\n",
       "      <th>150.0</th>\n",
       "      <td>0.265111</td>\n",
       "    </tr>\n",
       "    <tr>\n",
       "      <th>200.0</th>\n",
       "      <td>0.267445</td>\n",
       "    </tr>\n",
       "    <tr>\n",
       "      <th>300.0</th>\n",
       "      <td>0.264643</td>\n",
       "    </tr>\n",
       "    <tr>\n",
       "      <th>400.0</th>\n",
       "      <td>0.265099</td>\n",
       "    </tr>\n",
       "  </tbody>\n",
       "</table>\n",
       "</div>"
      ],
      "text/plain": [
       "                 F1 Score\n",
       "Number of Trees          \n",
       "15.0             0.273960\n",
       "20.0             0.260435\n",
       "30.0             0.262262\n",
       "40.0             0.272424\n",
       "50.0             0.273433\n",
       "100.0            0.264498\n",
       "150.0            0.265111\n",
       "200.0            0.267445\n",
       "300.0            0.264643\n",
       "400.0            0.265099"
      ]
     },
     "execution_count": 77,
     "metadata": {},
     "output_type": "execute_result"
    }
   ],
   "source": [
    "ETC(n_estimators_list, 0.5)"
   ]
  },
  {
   "cell_type": "code",
   "execution_count": 78,
   "id": "4106bb2c",
   "metadata": {},
   "outputs": [],
   "source": [
    "def ETC_model(n_estimators, threshold):\n",
    "    model = ExtraTreesClassifier(n_estimators  = n_estimators, random_state  = 42, n_jobs = -1)\n",
    "    model.fit(X_smo, y_smo)\n",
    "\n",
    "    preds = np.where(model.predict_proba(X_test)[:, 1] > threshold, 1, 0)\n",
    "    \n",
    "    evaluate_metrics(y_test, preds)\n",
    "    \n",
    "    error_matrix(y_test, preds, 'Extra Trees Classifier')"
   ]
  },
  {
   "cell_type": "code",
   "execution_count": 83,
   "id": "b4011a2f",
   "metadata": {},
   "outputs": [
    {
     "name": "stdout",
     "output_type": "stream",
     "text": [
      "              precision    recall  f1-score   support\n",
      "\n",
      "           0       0.93      0.97      0.95     33603\n",
      "           1       0.41      0.21      0.27      2954\n",
      "\n",
      "    accuracy                           0.91     36557\n",
      "   macro avg       0.67      0.59      0.61     36557\n",
      "weighted avg       0.89      0.91      0.90     36557\n",
      "\n",
      "Accuracy:   0.91\n",
      "Precision:  0.41\n",
      "Recall:     0.21\n",
      "F1 Score:   0.27\n"
     ]
    },
    {
     "data": {
      "image/png": "[encoded data removed]",
      "text/plain": [
       "<Figure size 576x288 with 2 Axes>"
      ]
     },
     "metadata": {
      "needs_background": "light"
     },
     "output_type": "display_data"
    }
   ],
   "source": [
    "ETC_model(15, 0.5)"
   ]
  },
  {
   "cell_type": "code",
   "execution_count": 80,
   "id": "e6e37483",
   "metadata": {},
   "outputs": [
    {
     "name": "stdout",
     "output_type": "stream",
     "text": [
      "Fitting model with 15 trees\n",
      "Fitting model with 20 trees\n",
      "Fitting model with 30 trees\n",
      "Fitting model with 40 trees\n",
      "Fitting model with 50 trees\n",
      "Fitting model with 100 trees\n",
      "Fitting model with 150 trees\n",
      "Fitting model with 200 trees\n",
      "Fitting model with 300 trees\n",
      "Fitting model with 400 trees\n"
     ]
    },
    {
     "data": {
      "image/png": "[encoded data removed]",
      "text/plain": [
       "<Figure size 720x360 with 1 Axes>"
      ]
     },
     "metadata": {
      "needs_background": "light"
     },
     "output_type": "display_data"
    },
    {
     "data": {
      "text/html": [
       "<div>\n",
       "<style scoped>\n",
       "    .dataframe tbody tr th:only-of-type {\n",
       "        vertical-align: middle;\n",
       "    }\n",
       "\n",
       "    .dataframe tbody tr th {\n",
       "        vertical-align: top;\n",
       "    }\n",
       "\n",
       "    .dataframe thead th {\n",
       "        text-align: right;\n",
       "    }\n",
       "</style>\n",
       "<table border=\"1\" class=\"dataframe\">\n",
       "  <thead>\n",
       "    <tr style=\"text-align: right;\">\n",
       "      <th></th>\n",
       "      <th>F1 Score</th>\n",
       "    </tr>\n",
       "    <tr>\n",
       "      <th>Number of Trees</th>\n",
       "      <th></th>\n",
       "    </tr>\n",
       "  </thead>\n",
       "  <tbody>\n",
       "    <tr>\n",
       "      <th>15.0</th>\n",
       "      <td>0.283407</td>\n",
       "    </tr>\n",
       "    <tr>\n",
       "      <th>20.0</th>\n",
       "      <td>0.283166</td>\n",
       "    </tr>\n",
       "    <tr>\n",
       "      <th>30.0</th>\n",
       "      <td>0.285283</td>\n",
       "    </tr>\n",
       "    <tr>\n",
       "      <th>40.0</th>\n",
       "      <td>0.286693</td>\n",
       "    </tr>\n",
       "    <tr>\n",
       "      <th>50.0</th>\n",
       "      <td>0.291432</td>\n",
       "    </tr>\n",
       "    <tr>\n",
       "      <th>100.0</th>\n",
       "      <td>0.282767</td>\n",
       "    </tr>\n",
       "    <tr>\n",
       "      <th>150.0</th>\n",
       "      <td>0.284778</td>\n",
       "    </tr>\n",
       "    <tr>\n",
       "      <th>200.0</th>\n",
       "      <td>0.277817</td>\n",
       "    </tr>\n",
       "    <tr>\n",
       "      <th>300.0</th>\n",
       "      <td>0.278925</td>\n",
       "    </tr>\n",
       "    <tr>\n",
       "      <th>400.0</th>\n",
       "      <td>0.277590</td>\n",
       "    </tr>\n",
       "  </tbody>\n",
       "</table>\n",
       "</div>"
      ],
      "text/plain": [
       "                 F1 Score\n",
       "Number of Trees          \n",
       "15.0             0.283407\n",
       "20.0             0.283166\n",
       "30.0             0.285283\n",
       "40.0             0.286693\n",
       "50.0             0.291432\n",
       "100.0            0.282767\n",
       "150.0            0.284778\n",
       "200.0            0.277817\n",
       "300.0            0.278925\n",
       "400.0            0.277590"
      ]
     },
     "execution_count": 80,
     "metadata": {},
     "output_type": "execute_result"
    }
   ],
   "source": [
    "ETC(n_estimators_list, 0.45)"
   ]
  },
  {
   "cell_type": "code",
   "execution_count": 84,
   "id": "ee70e435",
   "metadata": {},
   "outputs": [
    {
     "name": "stdout",
     "output_type": "stream",
     "text": [
      "              precision    recall  f1-score   support\n",
      "\n",
      "           0       0.93      0.97      0.95     33603\n",
      "           1       0.43      0.22      0.29      2954\n",
      "\n",
      "    accuracy                           0.91     36557\n",
      "   macro avg       0.68      0.60      0.62     36557\n",
      "weighted avg       0.89      0.91      0.90     36557\n",
      "\n",
      "Accuracy:   0.91\n",
      "Precision:  0.43\n",
      "Recall:     0.22\n",
      "F1 Score:   0.29\n"
     ]
    },
    {
     "data": {
      "image/png": "[encoded data removed]",
      "text/plain": [
       "<Figure size 576x288 with 2 Axes>"
      ]
     },
     "metadata": {
      "needs_background": "light"
     },
     "output_type": "display_data"
    }
   ],
   "source": [
    "ETC_model(50, 0.45)"
   ]
  },
  {
   "cell_type": "code",
   "execution_count": 85,
   "id": "29d0923e",
   "metadata": {},
   "outputs": [
    {
     "name": "stdout",
     "output_type": "stream",
     "text": [
      "Fitting model with 15 trees\n",
      "Fitting model with 20 trees\n",
      "Fitting model with 30 trees\n",
      "Fitting model with 40 trees\n",
      "Fitting model with 50 trees\n",
      "Fitting model with 100 trees\n",
      "Fitting model with 150 trees\n",
      "Fitting model with 200 trees\n",
      "Fitting model with 300 trees\n",
      "Fitting model with 400 trees\n"
     ]
    },
    {
     "data": {
      "image/png": "[encoded data removed]",
      "text/plain": [
       "<Figure size 720x360 with 1 Axes>"
      ]
     },
     "metadata": {
      "needs_background": "light"
     },
     "output_type": "display_data"
    },
    {
     "data": {
      "text/html": [
       "<div>\n",
       "<style scoped>\n",
       "    .dataframe tbody tr th:only-of-type {\n",
       "        vertical-align: middle;\n",
       "    }\n",
       "\n",
       "    .dataframe tbody tr th {\n",
       "        vertical-align: top;\n",
       "    }\n",
       "\n",
       "    .dataframe thead th {\n",
       "        text-align: right;\n",
       "    }\n",
       "</style>\n",
       "<table border=\"1\" class=\"dataframe\">\n",
       "  <thead>\n",
       "    <tr style=\"text-align: right;\">\n",
       "      <th></th>\n",
       "      <th>F1 Score</th>\n",
       "    </tr>\n",
       "    <tr>\n",
       "      <th>Number of Trees</th>\n",
       "      <th></th>\n",
       "    </tr>\n",
       "  </thead>\n",
       "  <tbody>\n",
       "    <tr>\n",
       "      <th>15.0</th>\n",
       "      <td>0.283407</td>\n",
       "    </tr>\n",
       "    <tr>\n",
       "      <th>20.0</th>\n",
       "      <td>0.290711</td>\n",
       "    </tr>\n",
       "    <tr>\n",
       "      <th>30.0</th>\n",
       "      <td>0.290223</td>\n",
       "    </tr>\n",
       "    <tr>\n",
       "      <th>40.0</th>\n",
       "      <td>0.294874</td>\n",
       "    </tr>\n",
       "    <tr>\n",
       "      <th>50.0</th>\n",
       "      <td>0.297324</td>\n",
       "    </tr>\n",
       "    <tr>\n",
       "      <th>100.0</th>\n",
       "      <td>0.299344</td>\n",
       "    </tr>\n",
       "    <tr>\n",
       "      <th>150.0</th>\n",
       "      <td>0.302228</td>\n",
       "    </tr>\n",
       "    <tr>\n",
       "      <th>200.0</th>\n",
       "      <td>0.300828</td>\n",
       "    </tr>\n",
       "    <tr>\n",
       "      <th>300.0</th>\n",
       "      <td>0.299676</td>\n",
       "    </tr>\n",
       "    <tr>\n",
       "      <th>400.0</th>\n",
       "      <td>0.299654</td>\n",
       "    </tr>\n",
       "  </tbody>\n",
       "</table>\n",
       "</div>"
      ],
      "text/plain": [
       "                 F1 Score\n",
       "Number of Trees          \n",
       "15.0             0.283407\n",
       "20.0             0.290711\n",
       "30.0             0.290223\n",
       "40.0             0.294874\n",
       "50.0             0.297324\n",
       "100.0            0.299344\n",
       "150.0            0.302228\n",
       "200.0            0.300828\n",
       "300.0            0.299676\n",
       "400.0            0.299654"
      ]
     },
     "execution_count": 85,
     "metadata": {},
     "output_type": "execute_result"
    }
   ],
   "source": [
    "ETC(n_estimators_list, 0.4)"
   ]
  },
  {
   "cell_type": "code",
   "execution_count": 86,
   "id": "24710159",
   "metadata": {},
   "outputs": [
    {
     "name": "stdout",
     "output_type": "stream",
     "text": [
      "              precision    recall  f1-score   support\n",
      "\n",
      "           0       0.94      0.96      0.95     33603\n",
      "           1       0.37      0.25      0.30      2954\n",
      "\n",
      "    accuracy                           0.90     36557\n",
      "   macro avg       0.65      0.61      0.63     36557\n",
      "weighted avg       0.89      0.90      0.90     36557\n",
      "\n",
      "Accuracy:   0.9\n",
      "Precision:  0.37\n",
      "Recall:     0.25\n",
      "F1 Score:   0.3\n"
     ]
    },
    {
     "data": {
      "image/png": "[encoded data removed]",
      "text/plain": [
       "<Figure size 576x288 with 2 Axes>"
      ]
     },
     "metadata": {
      "needs_background": "light"
     },
     "output_type": "display_data"
    }
   ],
   "source": [
    "ETC_model(150, 0.4)"
   ]
  },
  {
   "cell_type": "code",
   "execution_count": 88,
   "id": "cb11c1b2",
   "metadata": {},
   "outputs": [
    {
     "name": "stdout",
     "output_type": "stream",
     "text": [
      "Fitting model with 50 trees\n",
      "Fitting model with 100 trees\n",
      "Fitting model with 150 trees\n",
      "Fitting model with 200 trees\n",
      "Fitting model with 300 trees\n",
      "Fitting model with 400 trees\n",
      "Fitting model with 450 trees\n",
      "Fitting model with 500 trees\n"
     ]
    },
    {
     "data": {
      "image/png": "[encoded data removed]",
      "text/plain": [
       "<Figure size 720x360 with 1 Axes>"
      ]
     },
     "metadata": {
      "needs_background": "light"
     },
     "output_type": "display_data"
    },
    {
     "data": {
      "text/html": [
       "<div>\n",
       "<style scoped>\n",
       "    .dataframe tbody tr th:only-of-type {\n",
       "        vertical-align: middle;\n",
       "    }\n",
       "\n",
       "    .dataframe tbody tr th {\n",
       "        vertical-align: top;\n",
       "    }\n",
       "\n",
       "    .dataframe thead th {\n",
       "        text-align: right;\n",
       "    }\n",
       "</style>\n",
       "<table border=\"1\" class=\"dataframe\">\n",
       "  <thead>\n",
       "    <tr style=\"text-align: right;\">\n",
       "      <th></th>\n",
       "      <th>F1 Score</th>\n",
       "    </tr>\n",
       "    <tr>\n",
       "      <th>Number of Trees</th>\n",
       "      <th></th>\n",
       "    </tr>\n",
       "  </thead>\n",
       "  <tbody>\n",
       "    <tr>\n",
       "      <th>50.0</th>\n",
       "      <td>0.303452</td>\n",
       "    </tr>\n",
       "    <tr>\n",
       "      <th>100.0</th>\n",
       "      <td>0.304313</td>\n",
       "    </tr>\n",
       "    <tr>\n",
       "      <th>150.0</th>\n",
       "      <td>0.303135</td>\n",
       "    </tr>\n",
       "    <tr>\n",
       "      <th>200.0</th>\n",
       "      <td>0.304894</td>\n",
       "    </tr>\n",
       "    <tr>\n",
       "      <th>300.0</th>\n",
       "      <td>0.307419</td>\n",
       "    </tr>\n",
       "    <tr>\n",
       "      <th>400.0</th>\n",
       "      <td>0.307593</td>\n",
       "    </tr>\n",
       "    <tr>\n",
       "      <th>450.0</th>\n",
       "      <td>0.306950</td>\n",
       "    </tr>\n",
       "    <tr>\n",
       "      <th>500.0</th>\n",
       "      <td>0.306695</td>\n",
       "    </tr>\n",
       "  </tbody>\n",
       "</table>\n",
       "</div>"
      ],
      "text/plain": [
       "                 F1 Score\n",
       "Number of Trees          \n",
       "50.0             0.303452\n",
       "100.0            0.304313\n",
       "150.0            0.303135\n",
       "200.0            0.304894\n",
       "300.0            0.307419\n",
       "400.0            0.307593\n",
       "450.0            0.306950\n",
       "500.0            0.306695"
      ]
     },
     "execution_count": 88,
     "metadata": {},
     "output_type": "execute_result"
    }
   ],
   "source": [
    "ETC([50, 100, 150, 200, 300, 400, 450, 500], 0.35)"
   ]
  },
  {
   "cell_type": "code",
   "execution_count": 89,
   "id": "29b9b8c4",
   "metadata": {},
   "outputs": [
    {
     "name": "stdout",
     "output_type": "stream",
     "text": [
      "              precision    recall  f1-score   support\n",
      "\n",
      "           0       0.94      0.93      0.94     33603\n",
      "           1       0.29      0.32      0.31      2954\n",
      "\n",
      "    accuracy                           0.88     36557\n",
      "   macro avg       0.62      0.63      0.62     36557\n",
      "weighted avg       0.89      0.88      0.89     36557\n",
      "\n",
      "Accuracy:   0.88\n",
      "Precision:  0.29\n",
      "Recall:     0.32\n",
      "F1 Score:   0.31\n"
     ]
    },
    {
     "data": {
      "image/png": "[encoded data removed]",
      "text/plain": [
       "<Figure size 576x288 with 2 Axes>"
      ]
     },
     "metadata": {
      "needs_background": "light"
     },
     "output_type": "display_data"
    }
   ],
   "source": [
    "ETC_model(400, 0.35)"
   ]
  },
  {
   "cell_type": "code",
   "execution_count": 91,
   "id": "576da75b",
   "metadata": {},
   "outputs": [
    {
     "name": "stdout",
     "output_type": "stream",
     "text": [
      "Fitting model with 50 trees\n",
      "Fitting model with 100 trees\n",
      "Fitting model with 150 trees\n",
      "Fitting model with 200 trees\n",
      "Fitting model with 300 trees\n",
      "Fitting model with 400 trees\n",
      "Fitting model with 450 trees\n",
      "Fitting model with 500 trees\n"
     ]
    },
    {
     "data": {
      "image/png": "[encoded data removed]",
      "text/plain": [
       "<Figure size 720x360 with 1 Axes>"
      ]
     },
     "metadata": {
      "needs_background": "light"
     },
     "output_type": "display_data"
    },
    {
     "data": {
      "text/html": [
       "<div>\n",
       "<style scoped>\n",
       "    .dataframe tbody tr th:only-of-type {\n",
       "        vertical-align: middle;\n",
       "    }\n",
       "\n",
       "    .dataframe tbody tr th {\n",
       "        vertical-align: top;\n",
       "    }\n",
       "\n",
       "    .dataframe thead th {\n",
       "        text-align: right;\n",
       "    }\n",
       "</style>\n",
       "<table border=\"1\" class=\"dataframe\">\n",
       "  <thead>\n",
       "    <tr style=\"text-align: right;\">\n",
       "      <th></th>\n",
       "      <th>F1 Score</th>\n",
       "    </tr>\n",
       "    <tr>\n",
       "      <th>Number of Trees</th>\n",
       "      <th></th>\n",
       "    </tr>\n",
       "  </thead>\n",
       "  <tbody>\n",
       "    <tr>\n",
       "      <th>50.0</th>\n",
       "      <td>0.298906</td>\n",
       "    </tr>\n",
       "    <tr>\n",
       "      <th>100.0</th>\n",
       "      <td>0.305302</td>\n",
       "    </tr>\n",
       "    <tr>\n",
       "      <th>150.0</th>\n",
       "      <td>0.299943</td>\n",
       "    </tr>\n",
       "    <tr>\n",
       "      <th>200.0</th>\n",
       "      <td>0.306246</td>\n",
       "    </tr>\n",
       "    <tr>\n",
       "      <th>300.0</th>\n",
       "      <td>0.306820</td>\n",
       "    </tr>\n",
       "    <tr>\n",
       "      <th>400.0</th>\n",
       "      <td>0.306622</td>\n",
       "    </tr>\n",
       "    <tr>\n",
       "      <th>450.0</th>\n",
       "      <td>0.308626</td>\n",
       "    </tr>\n",
       "    <tr>\n",
       "      <th>500.0</th>\n",
       "      <td>0.307290</td>\n",
       "    </tr>\n",
       "  </tbody>\n",
       "</table>\n",
       "</div>"
      ],
      "text/plain": [
       "                 F1 Score\n",
       "Number of Trees          \n",
       "50.0             0.298906\n",
       "100.0            0.305302\n",
       "150.0            0.299943\n",
       "200.0            0.306246\n",
       "300.0            0.306820\n",
       "400.0            0.306622\n",
       "450.0            0.308626\n",
       "500.0            0.307290"
      ]
     },
     "execution_count": 91,
     "metadata": {},
     "output_type": "execute_result"
    }
   ],
   "source": [
    "ETC([50, 100, 150, 200, 300, 400, 450, 500], 0.33)"
   ]
  },
  {
   "cell_type": "code",
   "execution_count": 92,
   "id": "7cc5e6f4",
   "metadata": {},
   "outputs": [
    {
     "name": "stdout",
     "output_type": "stream",
     "text": [
      "              precision    recall  f1-score   support\n",
      "\n",
      "           0       0.94      0.91      0.93     33603\n",
      "           1       0.27      0.36      0.31      2954\n",
      "\n",
      "    accuracy                           0.87     36557\n",
      "   macro avg       0.61      0.64      0.62     36557\n",
      "weighted avg       0.89      0.87      0.88     36557\n",
      "\n",
      "Accuracy:   0.87\n",
      "Precision:  0.27\n",
      "Recall:     0.36\n",
      "F1 Score:   0.31\n"
     ]
    },
    {
     "data": {
      "image/png": "[encoded data removed]",
      "text/plain": [
       "<Figure size 576x288 with 2 Axes>"
      ]
     },
     "metadata": {
      "needs_background": "light"
     },
     "output_type": "display_data"
    }
   ],
   "source": [
    "ETC_model(450, 0.33)"
   ]
  },
  {
   "cell_type": "code",
   "execution_count": 63,
   "id": "f24635fd",
   "metadata": {},
   "outputs": [
    {
     "data": {
      "text/html": [
       "<div>\n",
       "<style scoped>\n",
       "    .dataframe tbody tr th:only-of-type {\n",
       "        vertical-align: middle;\n",
       "    }\n",
       "\n",
       "    .dataframe tbody tr th {\n",
       "        vertical-align: top;\n",
       "    }\n",
       "\n",
       "    .dataframe thead th {\n",
       "        text-align: right;\n",
       "    }\n",
       "</style>\n",
       "<table border=\"1\" class=\"dataframe\">\n",
       "  <thead>\n",
       "    <tr style=\"text-align: right;\">\n",
       "      <th></th>\n",
       "      <th>Number of Trees</th>\n",
       "      <th>F1 Score</th>\n",
       "    </tr>\n",
       "    <tr>\n",
       "      <th>Threshold</th>\n",
       "      <th></th>\n",
       "      <th></th>\n",
       "    </tr>\n",
       "  </thead>\n",
       "  <tbody>\n",
       "    <tr>\n",
       "      <th>0.50</th>\n",
       "      <td>15</td>\n",
       "      <td>0.273960</td>\n",
       "    </tr>\n",
       "    <tr>\n",
       "      <th>0.45</th>\n",
       "      <td>50</td>\n",
       "      <td>0.291432</td>\n",
       "    </tr>\n",
       "    <tr>\n",
       "      <th>0.40</th>\n",
       "      <td>150</td>\n",
       "      <td>0.302228</td>\n",
       "    </tr>\n",
       "    <tr>\n",
       "      <th>0.35</th>\n",
       "      <td>400</td>\n",
       "      <td>0.307593</td>\n",
       "    </tr>\n",
       "    <tr>\n",
       "      <th>0.33</th>\n",
       "      <td>300</td>\n",
       "      <td>0.306820</td>\n",
       "    </tr>\n",
       "    <tr>\n",
       "      <th>0.30</th>\n",
       "      <td>300</td>\n",
       "      <td>0.306404</td>\n",
       "    </tr>\n",
       "  </tbody>\n",
       "</table>\n",
       "</div>"
      ],
      "text/plain": [
       "           Number of Trees  F1 Score\n",
       "Threshold                           \n",
       "0.50                    15  0.273960\n",
       "0.45                    50  0.291432\n",
       "0.40                   150  0.302228\n",
       "0.35                   400  0.307593\n",
       "0.33                   300  0.306820\n",
       "0.30                   300  0.306404"
      ]
     },
     "execution_count": 63,
     "metadata": {},
     "output_type": "execute_result"
    }
   ],
   "source": [
    "max_f1_list = list()\n",
    "n_trees_list = list()\n",
    "\n",
    "for threshold in threshold_list:\n",
    "    \n",
    "    f1_list = list()\n",
    "\n",
    "    for n_estimators in n_estimators_list:\n",
    "    \n",
    "        model = ExtraTreesClassifier(n_estimators = n_estimators, random_state = 42, n_jobs = -1)\n",
    "        model.fit(X_smo, y_smo)\n",
    "    \n",
    "        preds = np.where(model.predict_proba(X_test)[:, 1] > threshold, 1, 0)\n",
    "    \n",
    "        f1 = f1_score(y_test, preds)\n",
    "        f1_list.append(f1)\n",
    "\n",
    "    max_f1 = max(f1_list)\n",
    "    ind = np.argmax(f1_list)\n",
    "    \n",
    "    max_f1_list.append(max_f1)\n",
    "    n_trees_list.append(n_estimators_list[ind])\n",
    "\n",
    "threshold_df = pd.DataFrame({'Threshold': threshold_list, \n",
    "                             'Number of Trees': n_trees_list, \n",
    "                             'F1 Score': max_f1_list}).set_index('Threshold')\n",
    "threshold_df"
   ]
  },
  {
   "cell_type": "markdown",
   "id": "2ad94c5a",
   "metadata": {},
   "source": [
    "## Gradient Boosting Classifier"
   ]
  },
  {
   "cell_type": "code",
   "execution_count": 93,
   "id": "424afd46",
   "metadata": {},
   "outputs": [],
   "source": [
    "def GBC(n_estimators_list, threshold):\n",
    "    f1_list = list()\n",
    "\n",
    "    for n_estimators in n_estimators_list:\n",
    "    \n",
    "        model = GradientBoostingClassifier(n_estimators = n_estimators, random_state = 42)\n",
    "    \n",
    "        print(f'Fitting model with {n_estimators} trees')\n",
    "        model.fit(X_smo, y_smo)\n",
    "    \n",
    "        preds = np.where(model.predict_proba(X_test)[:, 1] > threshold, 1, 0)\n",
    "    \n",
    "        f1 = f1_score(y_test, preds)\n",
    "        f1_list.append(pd.Series({'Number of Trees': n_estimators, 'F1 Score': f1}))\n",
    "\n",
    "    f1_df = pd.concat(f1_list, axis = 1).T.set_index('Number of Trees')\n",
    "    \n",
    "    ax = f1_df.plot(marker = 'o', figsize = (10, 5))\n",
    "    ax.set(ylabel = 'F1 Score')\n",
    "    plt.show()\n",
    "    \n",
    "    return f1_df"
   ]
  },
  {
   "cell_type": "code",
   "execution_count": null,
   "id": "37a402ff",
   "metadata": {},
   "outputs": [],
   "source": [
    "n_estimators_list = [15, 20, 30, 40, 50, 100, 150, 200]"
   ]
  },
  {
   "cell_type": "code",
   "execution_count": 94,
   "id": "d9c28dd7",
   "metadata": {},
   "outputs": [
    {
     "name": "stdout",
     "output_type": "stream",
     "text": [
      "Fitting model with 15 trees\n",
      "Fitting model with 20 trees\n",
      "Fitting model with 30 trees\n",
      "Fitting model with 40 trees\n",
      "Fitting model with 50 trees\n",
      "Fitting model with 100 trees\n",
      "Fitting model with 150 trees\n",
      "Fitting model with 200 trees\n",
      "Fitting model with 300 trees\n",
      "Fitting model with 400 trees\n"
     ]
    },
    {
     "data": {
      "image/png": "[encoded data removed]",
      "text/plain": [
       "<Figure size 720x360 with 1 Axes>"
      ]
     },
     "metadata": {
      "needs_background": "light"
     },
     "output_type": "display_data"
    },
    {
     "data": {
      "text/html": [
       "<div>\n",
       "<style scoped>\n",
       "    .dataframe tbody tr th:only-of-type {\n",
       "        vertical-align: middle;\n",
       "    }\n",
       "\n",
       "    .dataframe tbody tr th {\n",
       "        vertical-align: top;\n",
       "    }\n",
       "\n",
       "    .dataframe thead th {\n",
       "        text-align: right;\n",
       "    }\n",
       "</style>\n",
       "<table border=\"1\" class=\"dataframe\">\n",
       "  <thead>\n",
       "    <tr style=\"text-align: right;\">\n",
       "      <th></th>\n",
       "      <th>F1 Score</th>\n",
       "    </tr>\n",
       "    <tr>\n",
       "      <th>Number of Trees</th>\n",
       "      <th></th>\n",
       "    </tr>\n",
       "  </thead>\n",
       "  <tbody>\n",
       "    <tr>\n",
       "      <th>15.0</th>\n",
       "      <td>0.174848</td>\n",
       "    </tr>\n",
       "    <tr>\n",
       "      <th>20.0</th>\n",
       "      <td>0.175972</td>\n",
       "    </tr>\n",
       "    <tr>\n",
       "      <th>30.0</th>\n",
       "      <td>0.163278</td>\n",
       "    </tr>\n",
       "    <tr>\n",
       "      <th>40.0</th>\n",
       "      <td>0.128044</td>\n",
       "    </tr>\n",
       "    <tr>\n",
       "      <th>50.0</th>\n",
       "      <td>0.114420</td>\n",
       "    </tr>\n",
       "    <tr>\n",
       "      <th>100.0</th>\n",
       "      <td>0.012579</td>\n",
       "    </tr>\n",
       "    <tr>\n",
       "      <th>150.0</th>\n",
       "      <td>0.016562</td>\n",
       "    </tr>\n",
       "    <tr>\n",
       "      <th>200.0</th>\n",
       "      <td>0.016518</td>\n",
       "    </tr>\n",
       "    <tr>\n",
       "      <th>300.0</th>\n",
       "      <td>0.017196</td>\n",
       "    </tr>\n",
       "    <tr>\n",
       "      <th>400.0</th>\n",
       "      <td>0.022391</td>\n",
       "    </tr>\n",
       "  </tbody>\n",
       "</table>\n",
       "</div>"
      ],
      "text/plain": [
       "                 F1 Score\n",
       "Number of Trees          \n",
       "15.0             0.174848\n",
       "20.0             0.175972\n",
       "30.0             0.163278\n",
       "40.0             0.128044\n",
       "50.0             0.114420\n",
       "100.0            0.012579\n",
       "150.0            0.016562\n",
       "200.0            0.016518\n",
       "300.0            0.017196\n",
       "400.0            0.022391"
      ]
     },
     "execution_count": 94,
     "metadata": {},
     "output_type": "execute_result"
    }
   ],
   "source": [
    "GBC(n_estimators_list, 0.5)"
   ]
  },
  {
   "cell_type": "code",
   "execution_count": 95,
   "id": "730f6abe",
   "metadata": {},
   "outputs": [],
   "source": [
    "def GBC_model(n_estimators, threshold):\n",
    "    model = GradientBoostingClassifier(n_estimators  = n_estimators, random_state  = 42)\n",
    "    model.fit(X_smo, y_smo)\n",
    "\n",
    "    preds = np.where(model.predict_proba(X_test)[:, 1] > threshold, 1, 0)\n",
    "    \n",
    "    evaluate_metrics(y_test, preds)\n",
    "    \n",
    "    error_matrix(y_test, preds, 'Gradient Boosting Classifier')"
   ]
  },
  {
   "cell_type": "code",
   "execution_count": 96,
   "id": "8f2bba3d",
   "metadata": {},
   "outputs": [
    {
     "name": "stdout",
     "output_type": "stream",
     "text": [
      "              precision    recall  f1-score   support\n",
      "\n",
      "           0       0.93      0.86      0.89     33603\n",
      "           1       0.13      0.25      0.18      2954\n",
      "\n",
      "    accuracy                           0.81     36557\n",
      "   macro avg       0.53      0.56      0.53     36557\n",
      "weighted avg       0.86      0.81      0.83     36557\n",
      "\n",
      "Accuracy:   0.81\n",
      "Precision:  0.13\n",
      "Recall:     0.25\n",
      "F1 Score:   0.18\n"
     ]
    },
    {
     "data": {
      "image/png": "[encoded data removed]",
      "text/plain": [
       "<Figure size 576x288 with 2 Axes>"
      ]
     },
     "metadata": {
      "needs_background": "light"
     },
     "output_type": "display_data"
    }
   ],
   "source": [
    "GBC_model(20, 0.5)"
   ]
  },
  {
   "cell_type": "code",
   "execution_count": 97,
   "id": "9001dd20",
   "metadata": {},
   "outputs": [
    {
     "name": "stdout",
     "output_type": "stream",
     "text": [
      "Fitting model with 15 trees\n",
      "Fitting model with 20 trees\n",
      "Fitting model with 30 trees\n",
      "Fitting model with 40 trees\n",
      "Fitting model with 50 trees\n",
      "Fitting model with 100 trees\n",
      "Fitting model with 150 trees\n",
      "Fitting model with 200 trees\n",
      "Fitting model with 300 trees\n",
      "Fitting model with 400 trees\n"
     ]
    },
    {
     "data": {
      "image/png": "[encoded data removed]",
      "text/plain": [
       "<Figure size 720x360 with 1 Axes>"
      ]
     },
     "metadata": {
      "needs_background": "light"
     },
     "output_type": "display_data"
    },
    {
     "data": {
      "text/html": [
       "<div>\n",
       "<style scoped>\n",
       "    .dataframe tbody tr th:only-of-type {\n",
       "        vertical-align: middle;\n",
       "    }\n",
       "\n",
       "    .dataframe tbody tr th {\n",
       "        vertical-align: top;\n",
       "    }\n",
       "\n",
       "    .dataframe thead th {\n",
       "        text-align: right;\n",
       "    }\n",
       "</style>\n",
       "<table border=\"1\" class=\"dataframe\">\n",
       "  <thead>\n",
       "    <tr style=\"text-align: right;\">\n",
       "      <th></th>\n",
       "      <th>F1 Score</th>\n",
       "    </tr>\n",
       "    <tr>\n",
       "      <th>Number of Trees</th>\n",
       "      <th></th>\n",
       "    </tr>\n",
       "  </thead>\n",
       "  <tbody>\n",
       "    <tr>\n",
       "      <th>15.0</th>\n",
       "      <td>0.183030</td>\n",
       "    </tr>\n",
       "    <tr>\n",
       "      <th>20.0</th>\n",
       "      <td>0.185938</td>\n",
       "    </tr>\n",
       "    <tr>\n",
       "      <th>30.0</th>\n",
       "      <td>0.186797</td>\n",
       "    </tr>\n",
       "    <tr>\n",
       "      <th>40.0</th>\n",
       "      <td>0.173059</td>\n",
       "    </tr>\n",
       "    <tr>\n",
       "      <th>50.0</th>\n",
       "      <td>0.164099</td>\n",
       "    </tr>\n",
       "    <tr>\n",
       "      <th>100.0</th>\n",
       "      <td>0.044594</td>\n",
       "    </tr>\n",
       "    <tr>\n",
       "      <th>150.0</th>\n",
       "      <td>0.035432</td>\n",
       "    </tr>\n",
       "    <tr>\n",
       "      <th>200.0</th>\n",
       "      <td>0.039378</td>\n",
       "    </tr>\n",
       "    <tr>\n",
       "      <th>300.0</th>\n",
       "      <td>0.032206</td>\n",
       "    </tr>\n",
       "    <tr>\n",
       "      <th>400.0</th>\n",
       "      <td>0.038462</td>\n",
       "    </tr>\n",
       "  </tbody>\n",
       "</table>\n",
       "</div>"
      ],
      "text/plain": [
       "                 F1 Score\n",
       "Number of Trees          \n",
       "15.0             0.183030\n",
       "20.0             0.185938\n",
       "30.0             0.186797\n",
       "40.0             0.173059\n",
       "50.0             0.164099\n",
       "100.0            0.044594\n",
       "150.0            0.035432\n",
       "200.0            0.039378\n",
       "300.0            0.032206\n",
       "400.0            0.038462"
      ]
     },
     "execution_count": 97,
     "metadata": {},
     "output_type": "execute_result"
    }
   ],
   "source": [
    "GBC(n_estimators_list, 0.45)"
   ]
  },
  {
   "cell_type": "code",
   "execution_count": 98,
   "id": "3351e637",
   "metadata": {},
   "outputs": [
    {
     "name": "stdout",
     "output_type": "stream",
     "text": [
      "              precision    recall  f1-score   support\n",
      "\n",
      "           0       0.93      0.83      0.88     33603\n",
      "           1       0.13      0.30      0.19      2954\n",
      "\n",
      "    accuracy                           0.79     36557\n",
      "   macro avg       0.53      0.57      0.53     36557\n",
      "weighted avg       0.87      0.79      0.82     36557\n",
      "\n",
      "Accuracy:   0.79\n",
      "Precision:  0.13\n",
      "Recall:     0.3\n",
      "F1 Score:   0.19\n"
     ]
    },
    {
     "data": {
      "image/png": "[encoded data removed]",
      "text/plain": [
       "<Figure size 576x288 with 2 Axes>"
      ]
     },
     "metadata": {
      "needs_background": "light"
     },
     "output_type": "display_data"
    }
   ],
   "source": [
    "GBC_model(30, 0.45)"
   ]
  },
  {
   "cell_type": "code",
   "execution_count": 99,
   "id": "b9dd215b",
   "metadata": {},
   "outputs": [
    {
     "name": "stdout",
     "output_type": "stream",
     "text": [
      "Fitting model with 15 trees\n",
      "Fitting model with 20 trees\n",
      "Fitting model with 30 trees\n",
      "Fitting model with 40 trees\n",
      "Fitting model with 50 trees\n",
      "Fitting model with 100 trees\n",
      "Fitting model with 150 trees\n",
      "Fitting model with 200 trees\n",
      "Fitting model with 300 trees\n",
      "Fitting model with 400 trees\n"
     ]
    },
    {
     "data": {
      "image/png": "[encoded data removed]",
      "text/plain": [
       "<Figure size 720x360 with 1 Axes>"
      ]
     },
     "metadata": {
      "needs_background": "light"
     },
     "output_type": "display_data"
    },
    {
     "data": {
      "text/html": [
       "<div>\n",
       "<style scoped>\n",
       "    .dataframe tbody tr th:only-of-type {\n",
       "        vertical-align: middle;\n",
       "    }\n",
       "\n",
       "    .dataframe tbody tr th {\n",
       "        vertical-align: top;\n",
       "    }\n",
       "\n",
       "    .dataframe thead th {\n",
       "        text-align: right;\n",
       "    }\n",
       "</style>\n",
       "<table border=\"1\" class=\"dataframe\">\n",
       "  <thead>\n",
       "    <tr style=\"text-align: right;\">\n",
       "      <th></th>\n",
       "      <th>F1 Score</th>\n",
       "    </tr>\n",
       "    <tr>\n",
       "      <th>Number of Trees</th>\n",
       "      <th></th>\n",
       "    </tr>\n",
       "  </thead>\n",
       "  <tbody>\n",
       "    <tr>\n",
       "      <th>15.0</th>\n",
       "      <td>0.185835</td>\n",
       "    </tr>\n",
       "    <tr>\n",
       "      <th>20.0</th>\n",
       "      <td>0.187813</td>\n",
       "    </tr>\n",
       "    <tr>\n",
       "      <th>30.0</th>\n",
       "      <td>0.194728</td>\n",
       "    </tr>\n",
       "    <tr>\n",
       "      <th>40.0</th>\n",
       "      <td>0.192584</td>\n",
       "    </tr>\n",
       "    <tr>\n",
       "      <th>50.0</th>\n",
       "      <td>0.192356</td>\n",
       "    </tr>\n",
       "    <tr>\n",
       "      <th>100.0</th>\n",
       "      <td>0.092682</td>\n",
       "    </tr>\n",
       "    <tr>\n",
       "      <th>150.0</th>\n",
       "      <td>0.078696</td>\n",
       "    </tr>\n",
       "    <tr>\n",
       "      <th>200.0</th>\n",
       "      <td>0.075188</td>\n",
       "    </tr>\n",
       "    <tr>\n",
       "      <th>300.0</th>\n",
       "      <td>0.069507</td>\n",
       "    </tr>\n",
       "    <tr>\n",
       "      <th>400.0</th>\n",
       "      <td>0.074433</td>\n",
       "    </tr>\n",
       "  </tbody>\n",
       "</table>\n",
       "</div>"
      ],
      "text/plain": [
       "                 F1 Score\n",
       "Number of Trees          \n",
       "15.0             0.185835\n",
       "20.0             0.187813\n",
       "30.0             0.194728\n",
       "40.0             0.192584\n",
       "50.0             0.192356\n",
       "100.0            0.092682\n",
       "150.0            0.078696\n",
       "200.0            0.075188\n",
       "300.0            0.069507\n",
       "400.0            0.074433"
      ]
     },
     "execution_count": 99,
     "metadata": {},
     "output_type": "execute_result"
    }
   ],
   "source": [
    "GBC(n_estimators_list, 0.4)"
   ]
  },
  {
   "cell_type": "markdown",
   "id": "138435b8",
   "metadata": {},
   "source": [
    "## Ada Boost Classifier"
   ]
  },
  {
   "cell_type": "code",
   "execution_count": 44,
   "id": "ec97b244",
   "metadata": {},
   "outputs": [
    {
     "data": {
      "text/plain": [
       "{'learning_rate': 0.4, 'n_estimators': 600}"
      ]
     },
     "execution_count": 44,
     "metadata": {},
     "output_type": "execute_result"
    }
   ],
   "source": [
    "model = AdaBoostClassifier(DecisionTreeClassifier(max_depth = 1))\n",
    "\n",
    "param_grid = {'n_estimators': [200, 300, 400, 500, 600],\n",
    "              'learning_rate': [0.1, 0.2, 0.3, 0.4]}\n",
    "\n",
    "grid = GridSearchCV(model,\n",
    "                    param_grid = param_grid, \n",
    "                    scoring = 'f1',\n",
    "                    n_jobs = -1)\n",
    "\n",
    "grid.fit(X_smo, y_smo)\n",
    "\n",
    "grid.best_params_"
   ]
  },
  {
   "cell_type": "code",
   "execution_count": 46,
   "id": "00a4177f",
   "metadata": {},
   "outputs": [
    {
     "name": "stdout",
     "output_type": "stream",
     "text": [
      "              precision    recall  f1-score   support\n",
      "\n",
      "           0       0.92      0.95      0.94     33603\n",
      "           1       0.17      0.12      0.14      2954\n",
      "\n",
      "    accuracy                           0.88     36557\n",
      "   macro avg       0.55      0.53      0.54     36557\n",
      "weighted avg       0.86      0.88      0.87     36557\n",
      "\n",
      "Accuracy:   0.88\n",
      "Precision:  0.17\n",
      "Recall:     0.12\n",
      "F1 Score:   0.14\n"
     ]
    }
   ],
   "source": [
    "model = AdaBoostClassifier(DecisionTreeClassifier(max_depth = 1), \n",
    "                           n_estimators  = 400, \n",
    "                           learning_rate = 0.2,\n",
    "                           random_state  = 42)\n",
    "model.fit(X_smo, y_smo)\n",
    "\n",
    "preds = model.predict(X_test)\n",
    "\n",
    "evaluate_metrics(y_test, preds)"
   ]
  },
  {
   "cell_type": "code",
   "execution_count": 9,
   "id": "d62d2e6f",
   "metadata": {},
   "outputs": [],
   "source": [
    "l = [12, 5, 18, 6, 9, 0, 5]\n",
    "y = np.argmax(l)"
   ]
  },
  {
   "cell_type": "code",
   "execution_count": 10,
   "id": "1220cd7b",
   "metadata": {},
   "outputs": [],
   "source": [
    "l.append(3)"
   ]
  },
  {
   "cell_type": "code",
   "execution_count": 11,
   "id": "d17ec15a",
   "metadata": {},
   "outputs": [
    {
     "data": {
      "text/plain": [
       "[12, 5, 18, 6, 9, 0, 5, 3]"
      ]
     },
     "execution_count": 11,
     "metadata": {},
     "output_type": "execute_result"
    }
   ],
   "source": [
    "l"
   ]
  },
  {
   "cell_type": "code",
   "execution_count": 13,
   "id": "b71c99da",
   "metadata": {},
   "outputs": [],
   "source": [
    "df = pd.DataFrame({'l': l})"
   ]
  },
  {
   "cell_type": "code",
   "execution_count": 14,
   "id": "436de04d",
   "metadata": {},
   "outputs": [
    {
     "data": {
      "text/html": [
       "<div>\n",
       "<style scoped>\n",
       "    .dataframe tbody tr th:only-of-type {\n",
       "        vertical-align: middle;\n",
       "    }\n",
       "\n",
       "    .dataframe tbody tr th {\n",
       "        vertical-align: top;\n",
       "    }\n",
       "\n",
       "    .dataframe thead th {\n",
       "        text-align: right;\n",
       "    }\n",
       "</style>\n",
       "<table border=\"1\" class=\"dataframe\">\n",
       "  <thead>\n",
       "    <tr style=\"text-align: right;\">\n",
       "      <th></th>\n",
       "      <th>l</th>\n",
       "    </tr>\n",
       "  </thead>\n",
       "  <tbody>\n",
       "    <tr>\n",
       "      <th>0</th>\n",
       "      <td>12</td>\n",
       "    </tr>\n",
       "    <tr>\n",
       "      <th>1</th>\n",
       "      <td>5</td>\n",
       "    </tr>\n",
       "    <tr>\n",
       "      <th>2</th>\n",
       "      <td>18</td>\n",
       "    </tr>\n",
       "    <tr>\n",
       "      <th>3</th>\n",
       "      <td>6</td>\n",
       "    </tr>\n",
       "    <tr>\n",
       "      <th>4</th>\n",
       "      <td>9</td>\n",
       "    </tr>\n",
       "    <tr>\n",
       "      <th>5</th>\n",
       "      <td>0</td>\n",
       "    </tr>\n",
       "    <tr>\n",
       "      <th>6</th>\n",
       "      <td>5</td>\n",
       "    </tr>\n",
       "    <tr>\n",
       "      <th>7</th>\n",
       "      <td>3</td>\n",
       "    </tr>\n",
       "  </tbody>\n",
       "</table>\n",
       "</div>"
      ],
      "text/plain": [
       "    l\n",
       "0  12\n",
       "1   5\n",
       "2  18\n",
       "3   6\n",
       "4   9\n",
       "5   0\n",
       "6   5\n",
       "7   3"
      ]
     },
     "execution_count": 14,
     "metadata": {},
     "output_type": "execute_result"
    }
   ],
   "source": [
    "df"
   ]
  },
  {
   "cell_type": "code",
   "execution_count": null,
   "id": "09c4cebb",
   "metadata": {},
   "outputs": [],
   "source": []
  }
 ],
 "metadata": {
  "kernelspec": {
   "display_name": "Python 3 (ipykernel)",
   "language": "python",
   "name": "python3"
  },
  "language_info": {
   "codemirror_mode": {
    "name": "ipython",
    "version": 3
   },
   "file_extension": ".py",
   "mimetype": "text/x-python",
   "name": "python",
   "nbconvert_exporter": "python",
   "pygments_lexer": "ipython3",
   "version": "3.9.7"
  }
 },
 "nbformat": 4,
 "nbformat_minor": 5
}
